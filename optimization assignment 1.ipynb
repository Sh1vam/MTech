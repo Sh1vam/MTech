{
 "cells": [
  {
   "cell_type": "markdown",
   "id": "8641cf73-f1e3-45e0-bfc7-ebd635819219",
   "metadata": {},
   "source": [
    "# Basic Linear Algebra in Python"
   ]
  },
  {
   "cell_type": "markdown",
   "id": "7b5393c4-7d26-4a61-9d8a-aeb1e8847939",
   "metadata": {},
   "source": [
    "## Use Numpy library functions and methods to complete given tasks.\n",
    "### Given: x ∈ R<sup>n</sup> ; A ∈ R<sup>n x n</sup>; B ∈ R<sup>n x n</sup>\n",
    "#### Read dimension of all variables and their values from keyboard. \n",
    "##### Find and Display:\n",
    "- A<sup>T</sup>  and B<sup>T</sup>\n",
    "- A.B\n",
    "- Verify (AB)<sup>T</sup> = B<sup>T</sup>. A<sup>T</sup>\n",
    "- |A | and | B |\n",
    "- Check for singularity of A and B\n",
    "- Find A<sup>-1</sup> and B<sup>-1</sup> (if possible) (Read again values of A and B if inverses are not possible and do it till inverses are available)\n",
    "- Verify AA<sup>-1</sup> = I and A<sup>-1</sup>A = I\n",
    "- Trace of A and B, A<sup>-1</sup> and B<sup>-1</sup>, A<sup>T</sup> and B<sup>T</sup>\n",
    "- Verify trace (AB) = trace (BA)\n",
    "- Verify trace(A<sup>T</sup>B) = trace(AB<sup>T</sup>) = trace(BA<sup>T</sup>) =trace(B<sup>T</sup>A)\n",
    "- Eigen values and Eigen vectors of A, B, AB, A<sup>T</sup> ,B<sup>T</sup>, A<sup>-1</sup>, B<sup>-1</sup>\n",
    "- Verify trace and determinant property related to Eigen Values for both Matrix A and B\n",
    "- Check definiteness of Matrices A, B, AB, A<sup>T</sup> ,B<sup>T</sup>, A<sup>-1</sup>, B<sup>-1</sup>\n",
    "\n",
    "- y =  Ax; y ∈ R<sup>n</sup> \n",
    "- Retrieve x from y\n",
    "- Inner product of x and y and verify they are orthogonal or not\n",
    "- L<sub>2</sub>-Norm of x and y\n",
    "- Normalize x and y\n",
    "- Verify CS inequality for x and y\n",
    "- Verify x<sup>T</sup>y = y<sup>T</sup>x\n",
    "- Verify y<sup>T</sup>Ax = x<sup>T</sup>A<sup>T</sup>y\n"
   ]
  },
  {
   "cell_type": "markdown",
   "id": "453b168a-74ea-4b1e-8f63-f6dd53ea4289",
   "metadata": {},
   "source": [
    "### Import Numpy library"
   ]
  },
  {
   "cell_type": "code",
   "execution_count": 1,
   "id": "f09124f9-38c9-447f-9307-0a9075fa6277",
   "metadata": {},
   "outputs": [],
   "source": [
    "import numpy as np"
   ]
  },
  {
   "cell_type": "markdown",
   "id": "59cef387-6f87-4e43-943b-ca8f59512621",
   "metadata": {},
   "source": [
    "### Take Input and Verify Singularity of Matrix"
   ]
  },
  {
   "cell_type": "code",
   "execution_count": 2,
   "id": "cf331bd2-7947-410f-80a1-0f78ecba1829",
   "metadata": {},
   "outputs": [
    {
     "ename": "ValueError",
     "evalue": "invalid literal for int() with base 10: ''",
     "output_type": "error",
     "traceback": [
      "\u001b[31m---------------------------------------------------------------------------\u001b[39m",
      "\u001b[31mValueError\u001b[39m                                Traceback (most recent call last)",
      "\u001b[36mCell\u001b[39m\u001b[36m \u001b[39m\u001b[32mIn[2]\u001b[39m\u001b[32m, line 1\u001b[39m\n\u001b[32m----> \u001b[39m\u001b[32m1\u001b[39m n = \u001b[38;5;28;43mint\u001b[39;49m\u001b[43m(\u001b[49m\u001b[38;5;28;43minput\u001b[39;49m\u001b[43m(\u001b[49m\u001b[33;43m\"\u001b[39;49m\u001b[33;43mEnter dimension (n) for matrix A and B (n x  n) and vector x (n x 1): \u001b[39;49m\u001b[33;43m\"\u001b[39;49m\u001b[43m)\u001b[49m\u001b[43m)\u001b[49m\n\u001b[32m      3\u001b[39m x = \u001b[38;5;28mlist\u001b[39m(\u001b[38;5;28mmap\u001b[39m(\u001b[38;5;28mint\u001b[39m,\u001b[38;5;28minput\u001b[39m(\u001b[33mf\u001b[39m\u001b[33m\"\u001b[39m\u001b[33mEnter Vector x of size \u001b[39m\u001b[38;5;132;01m{\u001b[39;00mn\u001b[38;5;132;01m}\u001b[39;00m\u001b[33m. x 1 in a single line row wise elements (separated by space): \u001b[39m\u001b[33m\"\u001b[39m).split()))       \n\u001b[32m      4\u001b[39m x = np.matrix(x).reshape(n,\u001b[32m1\u001b[39m)\n",
      "\u001b[31mValueError\u001b[39m: invalid literal for int() with base 10: ''"
     ]
    }
   ],
   "source": [
    "n = int(input(\"Enter dimension (n) for matrix A and B (n x  n) and vector x (n x 1): \"))\n",
    "\n",
    "x = list(map(int,input(f\"Enter Vector x of size {n}. x 1 in a single line row wise elements (separated by space): \").split()))       \n",
    "x = np.matrix(x).reshape(n,1)\n",
    "print(\"\\nVector x:\\n\", x)  \n",
    "\n",
    "while (True):  \n",
    "    A = list(map(int,input(f\"Enter matrix A of size {n}. x {n}. in a single line row wise elements (separated by space): \").split()))        \n",
    "    A = np.array(A).reshape(n,n)\n",
    "    print(\"\\nMatrix A:\\n\", A)\n",
    "    # |A| and singularity check\n",
    "    det_A = np.linalg.det(A)\n",
    "    print(f\"\\nDeterminant of A: {det_A}\")\n",
    "    if np.isclose(det_A, 0):\n",
    "       print(\"\\nA is singular, Reading again.\")\n",
    "       continue\n",
    "    else:\n",
    "       print(\"\\nA is non-singular\")\n",
    "       break \n",
    "        \n",
    "while (True):        \n",
    "     B = list(map(int,input(f\"Enter matrix B of size {n}. x {n}. in a single line row wise elements (separated by space): \").split()))       \n",
    "     B = np.array(B).reshape(n,n)\n",
    "     print(\"\\nMatrix B:\\n\", B)   \n",
    "     # |B| and singularity check\n",
    "     det_B = np.linalg.det(B)\n",
    "     print(f\"\\nDeterminant of B: {det_B}\")\n",
    "     if np.isclose(det_B, 0):\n",
    "        print(\"\\nB is singular, Reading again.\")\n",
    "        continue\n",
    "     else:\n",
    "        print(\"\\nB is non-singular\")\n",
    "        break "
   ]
  },
  {
   "cell_type": "code",
   "execution_count": null,
   "id": "4d40b4c6-f3cc-498d-b85a-ad53eea52efc",
   "metadata": {},
   "outputs": [],
   "source": []
  },
  {
   "cell_type": "markdown",
   "id": "febcd40d-37ce-48f8-bac2-0426f68029d5",
   "metadata": {},
   "source": [
    "### Transpose of Matrix"
   ]
  },
  {
   "cell_type": "code",
   "execution_count": null,
   "id": "bf1ef12f-1ea7-4bb2-9b02-f9e3e325666d",
   "metadata": {},
   "outputs": [
    {
     "name": "stdout",
     "output_type": "stream",
     "text": [
      "\n",
      "Transpose of A:\n",
      " [[1 3]\n",
      " [2 4]]\n",
      "\n",
      "Transpose of B:\n",
      " [[5 7]\n",
      " [6 8]]\n"
     ]
    }
   ],
   "source": [
    "# Transpose\n",
    "print(\"\\nTranspose of A:\\n\", A.T)\n",
    "print(\"\\nTranspose of B:\\n\", B.T)"
   ]
  },
  {
   "cell_type": "markdown",
   "id": "9e756667-ccf4-4a08-bbf4-a5ffc9337d98",
   "metadata": {},
   "source": [
    "### Matrix Multiplication"
   ]
  },
  {
   "cell_type": "code",
   "execution_count": null,
   "id": "ff9234a4-b905-4a82-a67a-b14528ad8f63",
   "metadata": {},
   "outputs": [
    {
     "name": "stdout",
     "output_type": "stream",
     "text": [
      "\n",
      "Matrix AB:\n",
      " [[19 22]\n",
      " [43 50]]\n",
      "\n",
      "Matrix AB using numpy:\n",
      " [[19 22]\n",
      " [43 50]]\n"
     ]
    }
   ],
   "source": [
    "# Matrix multiplication\n",
    "AB = A @ B\n",
    "print(\"\\nMatrix AB:\\n\", AB)\n",
    "print(\"\\nMatrix AB using numpy:\\n\", np.dot(A,B))"
   ]
  },
  {
   "cell_type": "markdown",
   "id": "1fd964bf-a7f5-47bf-b82a-ce7555090cd3",
   "metadata": {},
   "source": [
    "### Verify (AB)<sup>T</sup> = B<sup>T</sup>. A<sup>T</sup>"
   ]
  },
  {
   "cell_type": "code",
   "execution_count": null,
   "id": "42c0d07b-e08a-44e1-92af-a3b155bd01a1",
   "metadata": {},
   "outputs": [
    {
     "name": "stdout",
     "output_type": "stream",
     "text": [
      "\n",
      "Verify (AB)^T = B^T A^T: True\n"
     ]
    }
   ],
   "source": [
    "print(\"\\nVerify (AB)^T = B^T A^T:\", np.allclose(AB.T, B.T @ A.T))"
   ]
  },
  {
   "cell_type": "markdown",
   "id": "7c7596c0-d7ec-4986-a280-d0ac29d5afaa",
   "metadata": {},
   "source": [
    "### Finding Inverse Of Matrix"
   ]
  },
  {
   "cell_type": "code",
   "execution_count": null,
   "id": "f6bcd4d0-2451-484e-b4c8-b2bacb7d63df",
   "metadata": {},
   "outputs": [
    {
     "name": "stdout",
     "output_type": "stream",
     "text": [
      "\n",
      "Inverse of A:\n",
      " [[-2.   1. ]\n",
      " [ 1.5 -0.5]]\n",
      "\n",
      "Inverse of B:\n",
      " [[-4.   3. ]\n",
      " [ 3.5 -2.5]]\n"
     ]
    }
   ],
   "source": [
    "# Inverse\n",
    "A_inv = np.linalg.inv(A)\n",
    "print(\"\\nInverse of A:\\n\", A_inv) \n",
    "B_inv = np.linalg.inv(B)\n",
    "print(\"\\nInverse of B:\\n\", B_inv)"
   ]
  },
  {
   "cell_type": "markdown",
   "id": "b2c63e18-f5b2-44ad-9733-172bd27e9a65",
   "metadata": {},
   "source": [
    "### Verify AA<sup>-1</sup> = I and A<sup>-1</sup>A = I"
   ]
  },
  {
   "cell_type": "code",
   "execution_count": null,
   "id": "6e63b283-72b1-4f39-98ef-3b2cd7a6d38d",
   "metadata": {},
   "outputs": [
    {
     "name": "stdout",
     "output_type": "stream",
     "text": [
      "Verify AA^-1 = I: True\n",
      "Verify A^-1A = I: True\n"
     ]
    }
   ],
   "source": [
    "print(\"Verify AA^-1 = I:\", np.allclose(A @ A_inv, np.eye(n)))\n",
    "print(\"Verify A^-1A = I:\", np.allclose(A_inv @ A, np.eye(n)))"
   ]
  },
  {
   "cell_type": "code",
   "execution_count": null,
   "id": "2ec8f67e-95c3-407d-953f-94c8235c37fb",
   "metadata": {},
   "outputs": [],
   "source": []
  },
  {
   "cell_type": "markdown",
   "id": "498e4bf4-9e17-4f49-9f72-4145293beb57",
   "metadata": {},
   "source": [
    "### Finding Trace of Matrices"
   ]
  },
  {
   "cell_type": "code",
   "execution_count": null,
   "id": "f46bc89a-e2f5-4b3a-8afa-173d59d253b9",
   "metadata": {},
   "outputs": [
    {
     "name": "stdout",
     "output_type": "stream",
     "text": [
      "\n",
      "Trace of A: 5\n",
      "Trace of B: 13\n",
      "Trace of A^-1: -2.4999999999999996\n",
      "Trace of B^-1: -6.499999999999982\n",
      "Trace of A^T: 5\n",
      "Trace of B^T: 13\n"
     ]
    }
   ],
   "source": [
    "# Trace\n",
    "print(f\"\\nTrace of A: {np.trace(A)}\")\n",
    "print(f\"Trace of B: {np.trace(B)}\")\n",
    "print(f\"Trace of A^-1: {np.trace(A_inv)}\")\n",
    "print(f\"Trace of B^-1: {np.trace(B_inv)}\")\n",
    "print(f\"Trace of A^T: {np.trace(A.T)}\")\n",
    "print(f\"Trace of B^T: {np.trace(B.T)}\")"
   ]
  },
  {
   "cell_type": "markdown",
   "id": "c9a814b9-7207-4b1a-944a-516e2b9d2928",
   "metadata": {},
   "source": [
    "### Trace Verification"
   ]
  },
  {
   "cell_type": "code",
   "execution_count": null,
   "id": "179f4cf4-a35b-4829-aac0-b097b6c86cc7",
   "metadata": {},
   "outputs": [
    {
     "name": "stdout",
     "output_type": "stream",
     "text": [
      "\n",
      "Verify trace(AB) = trace(BA): True\n",
      "\n",
      "Verify trace(A^T.B) = trace(A.B^T) = trace(B.A^T) = trace(B^T.A): True\n"
     ]
    }
   ],
   "source": [
    "# Trace verification\n",
    "print(f\"\\nVerify trace(AB) = trace(BA): {np.trace(A @ B) == np.trace(B @ A)}\")\n",
    "print(\"\\nVerify trace(A^T.B) = trace(A.B^T) = trace(B.A^T) = trace(B^T.A):\", \n",
    "      np.trace(A.T @ B) == np.trace(A @ B.T) == np.trace(B @ A.T) == np.trace(B.T @ A)) "
   ]
  },
  {
   "cell_type": "markdown",
   "id": "22ea569d-0c44-4a1d-aee7-cff6ee9cc2eb",
   "metadata": {},
   "source": [
    "### Finding Eigenvalues and Eigenvectors"
   ]
  },
  {
   "cell_type": "code",
   "execution_count": null,
   "id": "538e5141-1ff6-4d03-b1c7-a6a056cc1484",
   "metadata": {},
   "outputs": [
    {
     "data": {
      "text/plain": [
       "EigResult(eigenvalues=array([-0.37228132,  5.37228132]), eigenvectors=array([[-0.82456484, -0.41597356],\n",
       "       [ 0.56576746, -0.90937671]]))"
      ]
     },
     "execution_count": 10,
     "metadata": {},
     "output_type": "execute_result"
    }
   ],
   "source": [
    "np.linalg.eig(A)"
   ]
  },
  {
   "cell_type": "code",
   "execution_count": null,
   "id": "af5a90ac-7f01-4ab0-9e24-215b40962694",
   "metadata": {},
   "outputs": [
    {
     "name": "stdout",
     "output_type": "stream",
     "text": [
      "\n",
      "Eigenvalues of A:\n",
      " [-0.37228132  5.37228132]\n",
      "Eigenvectors of A:\n",
      " [[-0.82456484 -0.41597356]\n",
      " [ 0.56576746 -0.90937671]]\n",
      "\n",
      "Eigenvalues of B:\n",
      " [-0.15206735 13.15206735]\n",
      "Eigenvectors of B:\n",
      " [[-0.75868086 -0.59276441]\n",
      " [ 0.65146248 -0.80537591]]\n",
      "\n",
      "Eigenvalues of AT:\n",
      " [-0.37228132  5.37228132]\n",
      "Eigenvectors of AT:\n",
      " [[-0.90937671 -0.56576746]\n",
      " [ 0.41597356 -0.82456484]]\n",
      "\n",
      "Eigenvalues of BT:\n",
      " [-0.15206735 13.15206735]\n",
      "Eigenvectors of BT:\n",
      " [[-0.80537591 -0.65146248]\n",
      " [ 0.59276441 -0.75868086]]\n",
      "\n",
      "Eigenvalues of AB:\n",
      " [5.80198014e-02 6.89419802e+01]\n",
      "Eigenvectors of AB:\n",
      " [[-0.75781077 -0.40313049]\n",
      " [ 0.65247439 -0.91514251]]\n",
      "\n",
      "Eigenvalues of A^-1:\n",
      " [-2.68614066  0.18614066]\n",
      "Eigenvectors of A^-1:\n",
      " [[-0.82456484 -0.41597356]\n",
      " [ 0.56576746 -0.90937671]]\n",
      "\n",
      "Eigenvalues of B^-1:\n",
      " [-6.57603367  0.07603367]\n",
      "Eigenvectors of B^-1:\n",
      " [[-0.75868086 -0.59276441]\n",
      " [ 0.65146248 -0.80537591]]\n"
     ]
    }
   ],
   "source": [
    "# Eigenvalues and Eigenvectors\n",
    "eigvals_A, eigvecs_A = np.linalg.eig(A)\n",
    "eigvals_B, eigvecs_B = np.linalg.eig(B)\n",
    "print(\"\\nEigenvalues of A:\\n\", eigvals_A)\n",
    "print(\"Eigenvectors of A:\\n\", eigvecs_A)\n",
    "print(\"\\nEigenvalues of B:\\n\", eigvals_B)\n",
    "print(\"Eigenvectors of B:\\n\", eigvecs_B)\n",
    "eigvals_AT, eigvecs_AT = np.linalg.eig(A.T)\n",
    "eigvals_BT, eigvecs_BT = np.linalg.eig(B.T)\n",
    "print(\"\\nEigenvalues of AT:\\n\", eigvals_AT)\n",
    "print(\"Eigenvectors of AT:\\n\", eigvecs_AT)\n",
    "print(\"\\nEigenvalues of BT:\\n\", eigvals_BT)\n",
    "print(\"Eigenvectors of BT:\\n\", eigvecs_BT)\n",
    "eigvals_AB, eigvecs_AB = np.linalg.eig(AB)\n",
    "print(\"\\nEigenvalues of AB:\\n\", eigvals_AB)\n",
    "print(\"Eigenvectors of AB:\\n\", eigvecs_AB)\n",
    "eigvals_A_1, eigvecs_A_1 = np.linalg.eig(A_inv)\n",
    "eigvals_B_1, eigvecs_B_1 = np.linalg.eig(B_inv)\n",
    "print(\"\\nEigenvalues of A^-1:\\n\", eigvals_A_1)\n",
    "print(\"Eigenvectors of A^-1:\\n\", eigvecs_A_1)\n",
    "print(\"\\nEigenvalues of B^-1:\\n\", eigvals_B_1)\n",
    "print(\"Eigenvectors of B^-1:\\n\", eigvecs_B_1)"
   ]
  },
  {
   "cell_type": "markdown",
   "id": "8b7161c0-1cbe-4522-b333-541eddcc1a4d",
   "metadata": {},
   "source": [
    "### Verify trace and determinant properties of Eigen values for A and B"
   ]
  },
  {
   "cell_type": "code",
   "execution_count": null,
   "id": "b55fcabd-43f6-4822-844a-10645176df67",
   "metadata": {},
   "outputs": [
    {
     "name": "stdout",
     "output_type": "stream",
     "text": [
      "\n",
      "Verify det(A) = Multiplication of eigvals_A: True\n",
      "\n",
      "Verify det(B) = Multiplication of eigvals_B: True\n",
      "\n",
      "Verify trace(A) = Summation of eigvals_A: True\n",
      "\n",
      "Verify trace(B) = Summation of eigvals_B: True\n"
     ]
    }
   ],
   "source": [
    "print(\"\\nVerify det(A) = Multiplication of eigvals_A:\", np.isclose(det_A, np.prod(eigvals_A) )) \n",
    "print(\"\\nVerify det(B) = Multiplication of eigvals_B:\", np.isclose(det_B, np.prod(eigvals_B) )) \n",
    "print(\"\\nVerify trace(A) = Summation of eigvals_A:\", np.isclose(np.trace(A), np.sum(eigvals_A) )) \n",
    "print(\"\\nVerify trace(B) = Summation of eigvals_B:\", np.isclose(np.trace(B), np.sum(eigvals_B) ))   "
   ]
  },
  {
   "cell_type": "markdown",
   "id": "7db7c48b-b265-4f82-bd71-3c95121c93ca",
   "metadata": {},
   "source": [
    "### Definiteness Test for A and B (In general not symmetic)"
   ]
  },
  {
   "cell_type": "code",
   "execution_count": null,
   "id": "d3e93147-928d-4887-bbe9-06e342de9e1f",
   "metadata": {},
   "outputs": [
    {
     "name": "stdout",
     "output_type": "stream",
     "text": [
      "\n",
      "A is indefinite\n",
      "\n",
      "B is indefinite\n"
     ]
    }
   ],
   "source": [
    "Asym = A+A.T \n",
    "Bsym = B+B.T \n",
    "eigvals_Asym, eigvecs_Asym = np.linalg.eig(Asym)\n",
    "eigvals_Bsym, eigvecs_Bsym = np.linalg.eig(Bsym)\n",
    "if(np.all(eigvals_Asym > np.finfo(np.float32).eps)):\n",
    "    print(\"\\nA is Positive definite\")\n",
    "elif(np.all(eigvals_Asym >= 0)):\n",
    "    print(\"\\nA is Positive semi-definite\")\n",
    "elif(np.all(eigvals_Asym <0)):\n",
    "    print(\"\\nA is Negative semi-definite\")\n",
    "elif(np.all(eigvals_Asym <= 0)):\n",
    "    print(\"\\nA is Negative semi-definite\")\n",
    "else:\n",
    "    print(\"\\nA is indefinite\")\n",
    "\n",
    "if(np.all(eigvals_Bsym > 0)):\n",
    "    print(\"\\nB is Positive definite\")\n",
    "elif(np.all(eigvals_Bsym >= 0)):\n",
    "    print(\"\\nB is Positive semi-definite\")\n",
    "elif(np.all(eigvals_Bsym <0)):\n",
    "    print(\"\\nB is Negative semi-definite\")\n",
    "elif(np.all(eigvals_Bsym <= 0)):\n",
    "    print(\"\\nB is Negative semi-definite\")\n",
    "else:\n",
    "    print(\"\\nB is indefinite\")  "
   ]
  },
  {
   "cell_type": "markdown",
   "id": "eb609b8a-606f-4d39-96c6-bc8ecc4d710a",
   "metadata": {},
   "source": [
    "## Vector Operations"
   ]
  },
  {
   "cell_type": "code",
   "execution_count": null,
   "id": "c1dfb06a-dad7-4696-b0ae-75a4382ba659",
   "metadata": {},
   "outputs": [
    {
     "data": {
      "text/plain": [
       "array([[1, 2],\n",
       "       [3, 4]])"
      ]
     },
     "execution_count": 14,
     "metadata": {},
     "output_type": "execute_result"
    }
   ],
   "source": [
    "A"
   ]
  },
  {
   "cell_type": "code",
   "execution_count": null,
   "id": "544b43a1-917e-4b54-bd83-79f85f0e4473",
   "metadata": {},
   "outputs": [
    {
     "data": {
      "text/plain": [
       "matrix([[1],\n",
       "        [2]])"
      ]
     },
     "execution_count": 15,
     "metadata": {},
     "output_type": "execute_result"
    }
   ],
   "source": [
    "x"
   ]
  },
  {
   "cell_type": "markdown",
   "id": "56338559-f960-467d-88d5-6aac6d334a00",
   "metadata": {},
   "source": [
    "### y =  Ax; y ∈ R<sup>n</sup> "
   ]
  },
  {
   "cell_type": "code",
   "execution_count": null,
   "id": "41025379-96e4-434f-9435-44040c8a71c1",
   "metadata": {},
   "outputs": [
    {
     "name": "stdout",
     "output_type": "stream",
     "text": [
      "\n",
      "y = Ax:\n",
      " [[ 5]\n",
      " [11]]\n"
     ]
    }
   ],
   "source": [
    "# Vector operations\n",
    "y = A @ x\n",
    "print(\"\\ny = Ax:\\n\", y)"
   ]
  },
  {
   "cell_type": "markdown",
   "id": "6d8bea26-c6ca-43a6-b956-83fbb91c18a0",
   "metadata": {},
   "source": [
    "### Retrieved x from y"
   ]
  },
  {
   "cell_type": "code",
   "execution_count": null,
   "id": "1c8e6925-7e97-431d-93eb-92efb33d2c6a",
   "metadata": {},
   "outputs": [
    {
     "data": {
      "text/plain": [
       "matrix([[1.],\n",
       "        [2.]])"
      ]
     },
     "execution_count": 17,
     "metadata": {},
     "output_type": "execute_result"
    }
   ],
   "source": [
    "np.linalg.solve(A,y)"
   ]
  },
  {
   "cell_type": "code",
   "execution_count": null,
   "id": "1d82e7b0-3888-4b9e-8096-38d0e09b4a95",
   "metadata": {},
   "outputs": [
    {
     "name": "stdout",
     "output_type": "stream",
     "text": [
      "Retrieved x from y:\n",
      " [[1.]\n",
      " [2.]]\n"
     ]
    }
   ],
   "source": [
    "x_retrieved = A_inv @ y\n",
    "print(\"Retrieved x from y:\\n\", x_retrieved)"
   ]
  },
  {
   "cell_type": "markdown",
   "id": "50ba6485-e900-4980-819a-03feff710d30",
   "metadata": {},
   "source": [
    "### Inner product, norm, and orthogonality"
   ]
  },
  {
   "cell_type": "code",
   "execution_count": null,
   "id": "6122d42f-b2d1-4a39-98a3-cd11e28e2241",
   "metadata": {},
   "outputs": [
    {
     "name": "stdout",
     "output_type": "stream",
     "text": [
      "\n",
      "Inner product of x and y: [[27]]\n",
      "x and y are not orthogonal.\n",
      "\n",
      "Norm of x: 2.23606797749979\n",
      "Norm of y: 12.083045973594572\n"
     ]
    }
   ],
   "source": [
    "inner_product = x.T @ y\n",
    "print(f\"\\nInner product of x and y: {inner_product}\")\n",
    "print(\"x and y are orthogonal:\" if np.isclose(inner_product, 0) else \"x and y are not orthogonal.\")\n",
    "print(f\"\\nNorm of x: {np.linalg.norm(x)}\")\n",
    "print(f\"Norm of y: {np.linalg.norm(y)}\") #L2-norm by default"
   ]
  },
  {
   "cell_type": "markdown",
   "id": "0c880bc8-0475-4ef5-bd80-80f2e6e45c6d",
   "metadata": {},
   "source": [
    "### L<sub>1</sub>-Norm of x and y"
   ]
  },
  {
   "cell_type": "code",
   "execution_count": null,
   "id": "7431e9b1-5351-4cd9-98b0-81cbd55b8043",
   "metadata": {},
   "outputs": [
    {
     "name": "stdout",
     "output_type": "stream",
     "text": [
      "\n",
      "Norm of x: 3.0\n",
      "Norm of y: 16.0\n"
     ]
    }
   ],
   "source": [
    "print(f\"\\nNorm of x: {np.linalg.norm(x,ord=1)}\")\n",
    "print(f\"Norm of y: {np.linalg.norm(y,ord=1)}\")"
   ]
  },
  {
   "cell_type": "markdown",
   "id": "088e53ba-5062-4296-b8f9-b0ccba6f133b",
   "metadata": {},
   "source": [
    "### Normalizing Vector x & y"
   ]
  },
  {
   "cell_type": "code",
   "execution_count": null,
   "id": "1964d15d-a582-4759-b806-44d7db5bdbcf",
   "metadata": {},
   "outputs": [
    {
     "name": "stdout",
     "output_type": "stream",
     "text": [
      "\n",
      "Normalized x:\n",
      " [[0.4472136 ]\n",
      " [0.89442719]]\n",
      "Normalized y:\n",
      " [[0.41380294]\n",
      " [0.91036648]]\n"
     ]
    }
   ],
   "source": [
    "# Normalize\n",
    "x_normalized = x / np.linalg.norm(x)\n",
    "y_normalized = y / np.linalg.norm(y)\n",
    "print(\"\\nNormalized x:\\n\", x_normalized)\n",
    "print(\"Normalized y:\\n\", y_normalized)"
   ]
  },
  {
   "cell_type": "markdown",
   "id": "2d01f88a-7971-483b-a272-331c6c947069",
   "metadata": {},
   "source": [
    "### Verifying CS(Cauchy-Schwarz\\Cauchy-Bunyakovsky-Schwarz inequality) inequality i.e. ∣⟨a,b⟩∣≤∥a∥⋅∥b∥"
   ]
  },
  {
   "cell_type": "code",
   "execution_count": null,
   "id": "1b8d2dd6-bd99-4239-832a-20ce1175f35d",
   "metadata": {},
   "outputs": [
    {
     "name": "stdout",
     "output_type": "stream",
     "text": [
      "\n",
      "Verify CS inequality for x and y: [[ True]]\n",
      "CS inequality (∣⟨a,b⟩∣≤∥a∥⋅∥b∥) verified\n"
     ]
    }
   ],
   "source": [
    "print(\"\\nVerify CS inequality for x and y:\",\n",
    "inner_product <= np.linalg.norm(x) * np.linalg.norm(y))\n",
    "if abs(inner_product) <= np.linalg.norm(x) * np.linalg.norm(y) :\n",
    "    print(\"CS inequality (∣⟨a,b⟩∣≤∥a∥⋅∥b∥) verified\")\n",
    "else :\n",
    "    print(\"CS inequality not verified\")"
   ]
  },
  {
   "cell_type": "markdown",
   "id": "15dd5b55-d44e-40f0-bf10-b00bdf697509",
   "metadata": {},
   "source": [
    "### Additional verifications"
   ]
  },
  {
   "cell_type": "code",
   "execution_count": null,
   "id": "53b9d00e-bdba-4638-ad41-373a6270f235",
   "metadata": {},
   "outputs": [
    {
     "name": "stdout",
     "output_type": "stream",
     "text": [
      "\n",
      "Verify x^T y = y^T x: [[ True]]\n",
      "\n",
      "Verify y^T A x = x^T A^T y: [[ True]]\n"
     ]
    }
   ],
   "source": [
    "print(\"\\nVerify x^T y = y^T x:\", np.isclose(inner_product, y.T @ x))\n",
    "print(\"\\nVerify y^T A x = x^T A^T y:\", \n",
    "np.isclose((y.T @ A) @ x, (x.T @ A.T) @ y))"
   ]
  },
  {
   "cell_type": "code",
   "execution_count": 1,
   "id": "17c47999",
   "metadata": {},
   "outputs": [
    {
     "ename": "KeyboardInterrupt",
     "evalue": "",
     "output_type": "error",
     "traceback": [
      "\u001b[31m---------------------------------------------------------------------------\u001b[39m",
      "\u001b[31mKeyboardInterrupt\u001b[39m                         Traceback (most recent call last)",
      "\u001b[36mCell\u001b[39m\u001b[36m \u001b[39m\u001b[32mIn[1]\u001b[39m\u001b[32m, line 36\u001b[39m\n\u001b[32m     33\u001b[39m f_prime = diff(f, t)\n\u001b[32m     35\u001b[39m \u001b[38;5;66;03m# Solve f_prime = 0 for t\u001b[39;00m\n\u001b[32m---> \u001b[39m\u001b[32m36\u001b[39m solution_t = \u001b[43msolve\u001b[49m\u001b[43m(\u001b[49m\u001b[43mEq\u001b[49m\u001b[43m(\u001b[49m\u001b[43mf_prime\u001b[49m\u001b[43m,\u001b[49m\u001b[43m \u001b[49m\u001b[32;43m0\u001b[39;49m\u001b[43m)\u001b[49m\u001b[43m,\u001b[49m\u001b[43m \u001b[49m\u001b[43mt\u001b[49m\u001b[43m)\u001b[49m\n\u001b[32m     37\u001b[39m solution_t\n",
      "\u001b[36mFile \u001b[39m\u001b[32md:\\venv\\Lib\\site-packages\\sympy\\solvers\\solvers.py:1170\u001b[39m, in \u001b[36msolve\u001b[39m\u001b[34m(f, *symbols, **flags)\u001b[39m\n\u001b[32m   1168\u001b[39m         solution = _solve_undetermined(f[\u001b[32m0\u001b[39m], symbols, flags)\n\u001b[32m   1169\u001b[39m     \u001b[38;5;28;01mif\u001b[39;00m \u001b[38;5;129;01mnot\u001b[39;00m solution:\n\u001b[32m-> \u001b[39m\u001b[32m1170\u001b[39m         solution = \u001b[43m_solve\u001b[49m\u001b[43m(\u001b[49m\u001b[43mf\u001b[49m\u001b[43m[\u001b[49m\u001b[32;43m0\u001b[39;49m\u001b[43m]\u001b[49m\u001b[43m,\u001b[49m\u001b[43m \u001b[49m\u001b[43m*\u001b[49m\u001b[43msymbols\u001b[49m\u001b[43m,\u001b[49m\u001b[43m \u001b[49m\u001b[43m*\u001b[49m\u001b[43m*\u001b[49m\u001b[43mflags\u001b[49m\u001b[43m)\u001b[49m\n\u001b[32m   1171\u001b[39m \u001b[38;5;28;01melse\u001b[39;00m:\n\u001b[32m   1172\u001b[39m     linear, solution = _solve_system(f, symbols, **flags)\n",
      "\u001b[36mFile \u001b[39m\u001b[32md:\\venv\\Lib\\site-packages\\sympy\\solvers\\solvers.py:1746\u001b[39m, in \u001b[36m_solve\u001b[39m\u001b[34m(f, *symbols, **flags)\u001b[39m\n\u001b[32m   1741\u001b[39m \u001b[38;5;28;01mif\u001b[39;00m checkdens:\n\u001b[32m   1742\u001b[39m     \u001b[38;5;66;03m# reject any result that makes any denom. affirmatively 0;\u001b[39;00m\n\u001b[32m   1743\u001b[39m     \u001b[38;5;66;03m# if in doubt, keep it\u001b[39;00m\n\u001b[32m   1744\u001b[39m     dens = _simple_dens(f, symbols)\n\u001b[32m   1745\u001b[39m     result = [r \u001b[38;5;28;01mfor\u001b[39;00m r \u001b[38;5;129;01min\u001b[39;00m result \u001b[38;5;28;01mif\u001b[39;00m\n\u001b[32m-> \u001b[39m\u001b[32m1746\u001b[39m               \u001b[38;5;129;01mnot\u001b[39;00m \u001b[38;5;28;43many\u001b[39;49m\u001b[43m(\u001b[49m\u001b[43mchecksol\u001b[49m\u001b[43m(\u001b[49m\u001b[43md\u001b[49m\u001b[43m,\u001b[49m\u001b[43m \u001b[49m\u001b[43mr\u001b[49m\u001b[43m,\u001b[49m\u001b[43m \u001b[49m\u001b[43m*\u001b[49m\u001b[43m*\u001b[49m\u001b[43mflags\u001b[49m\u001b[43m)\u001b[49m\n\u001b[32m   1747\u001b[39m \u001b[43m                      \u001b[49m\u001b[38;5;28;43;01mfor\u001b[39;49;00m\u001b[43m \u001b[49m\u001b[43md\u001b[49m\u001b[43m \u001b[49m\u001b[38;5;129;43;01min\u001b[39;49;00m\u001b[43m \u001b[49m\u001b[43mdens\u001b[49m\u001b[43m)\u001b[49m]\n\u001b[32m   1748\u001b[39m \u001b[38;5;28;01mif\u001b[39;00m check:\n\u001b[32m   1749\u001b[39m     \u001b[38;5;66;03m# keep only results if the check is not False\u001b[39;00m\n\u001b[32m   1750\u001b[39m     result = [r \u001b[38;5;28;01mfor\u001b[39;00m r \u001b[38;5;129;01min\u001b[39;00m result \u001b[38;5;28;01mif\u001b[39;00m\n\u001b[32m   1751\u001b[39m               checksol(f_num, r, **flags) \u001b[38;5;129;01mis\u001b[39;00m \u001b[38;5;129;01mnot\u001b[39;00m \u001b[38;5;28;01mFalse\u001b[39;00m]\n",
      "\u001b[36mFile \u001b[39m\u001b[32md:\\venv\\Lib\\site-packages\\sympy\\solvers\\solvers.py:1746\u001b[39m, in \u001b[36m<genexpr>\u001b[39m\u001b[34m(.0)\u001b[39m\n\u001b[32m   1741\u001b[39m \u001b[38;5;28;01mif\u001b[39;00m checkdens:\n\u001b[32m   1742\u001b[39m     \u001b[38;5;66;03m# reject any result that makes any denom. affirmatively 0;\u001b[39;00m\n\u001b[32m   1743\u001b[39m     \u001b[38;5;66;03m# if in doubt, keep it\u001b[39;00m\n\u001b[32m   1744\u001b[39m     dens = _simple_dens(f, symbols)\n\u001b[32m   1745\u001b[39m     result = [r \u001b[38;5;28;01mfor\u001b[39;00m r \u001b[38;5;129;01min\u001b[39;00m result \u001b[38;5;28;01mif\u001b[39;00m\n\u001b[32m-> \u001b[39m\u001b[32m1746\u001b[39m               \u001b[38;5;129;01mnot\u001b[39;00m \u001b[38;5;28many\u001b[39m(\u001b[43mchecksol\u001b[49m\u001b[43m(\u001b[49m\u001b[43md\u001b[49m\u001b[43m,\u001b[49m\u001b[43m \u001b[49m\u001b[43mr\u001b[49m\u001b[43m,\u001b[49m\u001b[43m \u001b[49m\u001b[43m*\u001b[49m\u001b[43m*\u001b[49m\u001b[43mflags\u001b[49m\u001b[43m)\u001b[49m\n\u001b[32m   1747\u001b[39m                       \u001b[38;5;28;01mfor\u001b[39;00m d \u001b[38;5;129;01min\u001b[39;00m dens)]\n\u001b[32m   1748\u001b[39m \u001b[38;5;28;01mif\u001b[39;00m check:\n\u001b[32m   1749\u001b[39m     \u001b[38;5;66;03m# keep only results if the check is not False\u001b[39;00m\n\u001b[32m   1750\u001b[39m     result = [r \u001b[38;5;28;01mfor\u001b[39;00m r \u001b[38;5;129;01min\u001b[39;00m result \u001b[38;5;28;01mif\u001b[39;00m\n\u001b[32m   1751\u001b[39m               checksol(f_num, r, **flags) \u001b[38;5;129;01mis\u001b[39;00m \u001b[38;5;129;01mnot\u001b[39;00m \u001b[38;5;28;01mFalse\u001b[39;00m]\n",
      "\u001b[36mFile \u001b[39m\u001b[32md:\\venv\\Lib\\site-packages\\sympy\\solvers\\solvers.py:316\u001b[39m, in \u001b[36mchecksol\u001b[39m\u001b[34m(f, symbol, sol, **flags)\u001b[39m\n\u001b[32m    314\u001b[39m val, reps = posify(val)\n\u001b[32m    315\u001b[39m \u001b[38;5;66;03m# expansion may work now, so try again and check\u001b[39;00m\n\u001b[32m--> \u001b[39m\u001b[32m316\u001b[39m exval = \u001b[43m_mexpand\u001b[49m\u001b[43m(\u001b[49m\u001b[43mval\u001b[49m\u001b[43m,\u001b[49m\u001b[43m \u001b[49m\u001b[43mrecursive\u001b[49m\u001b[43m=\u001b[49m\u001b[38;5;28;43;01mTrue\u001b[39;49;00m\u001b[43m)\u001b[49m\n\u001b[32m    317\u001b[39m \u001b[38;5;28;01mif\u001b[39;00m exval.is_number:\n\u001b[32m    318\u001b[39m     \u001b[38;5;66;03m# we can decide now\u001b[39;00m\n\u001b[32m    319\u001b[39m     val = exval\n",
      "\u001b[36mFile \u001b[39m\u001b[32md:\\venv\\Lib\\site-packages\\sympy\\core\\function.py:2827\u001b[39m, in \u001b[36m_mexpand\u001b[39m\u001b[34m(expr, recursive)\u001b[39m\n\u001b[32m   2825\u001b[39m was = \u001b[38;5;28;01mNone\u001b[39;00m\n\u001b[32m   2826\u001b[39m \u001b[38;5;28;01mwhile\u001b[39;00m was != expr:\n\u001b[32m-> \u001b[39m\u001b[32m2827\u001b[39m     was, expr = expr, \u001b[43mexpand_mul\u001b[49m\u001b[43m(\u001b[49m\u001b[43mexpand_multinomial\u001b[49m\u001b[43m(\u001b[49m\u001b[43mexpr\u001b[49m\u001b[43m)\u001b[49m\u001b[43m)\u001b[49m\n\u001b[32m   2828\u001b[39m     \u001b[38;5;28;01mif\u001b[39;00m \u001b[38;5;129;01mnot\u001b[39;00m recursive:\n\u001b[32m   2829\u001b[39m         \u001b[38;5;28;01mbreak\u001b[39;00m\n",
      "\u001b[36mFile \u001b[39m\u001b[32md:\\venv\\Lib\\site-packages\\sympy\\core\\function.py:2850\u001b[39m, in \u001b[36mexpand_mul\u001b[39m\u001b[34m(expr, deep)\u001b[39m\n\u001b[32m   2836\u001b[39m \u001b[38;5;28;01mdef\u001b[39;00m\u001b[38;5;250m \u001b[39m\u001b[34mexpand_mul\u001b[39m(expr, deep=\u001b[38;5;28;01mTrue\u001b[39;00m):\n\u001b[32m   2837\u001b[39m \u001b[38;5;250m    \u001b[39m\u001b[33;03m\"\"\"\u001b[39;00m\n\u001b[32m   2838\u001b[39m \u001b[33;03m    Wrapper around expand that only uses the mul hint.  See the expand\u001b[39;00m\n\u001b[32m   2839\u001b[39m \u001b[33;03m    docstring for more information.\u001b[39;00m\n\u001b[32m   (...)\u001b[39m\u001b[32m   2848\u001b[39m \n\u001b[32m   2849\u001b[39m \u001b[33;03m    \"\"\"\u001b[39;00m\n\u001b[32m-> \u001b[39m\u001b[32m2850\u001b[39m     \u001b[38;5;28;01mreturn\u001b[39;00m \u001b[43msympify\u001b[49m\u001b[43m(\u001b[49m\u001b[43mexpr\u001b[49m\u001b[43m)\u001b[49m\u001b[43m.\u001b[49m\u001b[43mexpand\u001b[49m\u001b[43m(\u001b[49m\u001b[43mdeep\u001b[49m\u001b[43m=\u001b[49m\u001b[43mdeep\u001b[49m\u001b[43m,\u001b[49m\u001b[43m \u001b[49m\u001b[43mmul\u001b[49m\u001b[43m=\u001b[49m\u001b[38;5;28;43;01mTrue\u001b[39;49;00m\u001b[43m,\u001b[49m\u001b[43m \u001b[49m\u001b[43mpower_exp\u001b[49m\u001b[43m=\u001b[49m\u001b[38;5;28;43;01mFalse\u001b[39;49;00m\u001b[43m,\u001b[49m\n\u001b[32m   2851\u001b[39m \u001b[43m    \u001b[49m\u001b[43mpower_base\u001b[49m\u001b[43m=\u001b[49m\u001b[38;5;28;43;01mFalse\u001b[39;49;00m\u001b[43m,\u001b[49m\u001b[43m \u001b[49m\u001b[43mbasic\u001b[49m\u001b[43m=\u001b[49m\u001b[38;5;28;43;01mFalse\u001b[39;49;00m\u001b[43m,\u001b[49m\u001b[43m \u001b[49m\u001b[43mmultinomial\u001b[49m\u001b[43m=\u001b[49m\u001b[38;5;28;43;01mFalse\u001b[39;49;00m\u001b[43m,\u001b[49m\u001b[43m \u001b[49m\u001b[43mlog\u001b[49m\u001b[43m=\u001b[49m\u001b[38;5;28;43;01mFalse\u001b[39;49;00m\u001b[43m)\u001b[49m\n",
      "\u001b[36mFile \u001b[39m\u001b[32md:\\venv\\Lib\\site-packages\\sympy\\core\\cache.py:72\u001b[39m, in \u001b[36m__cacheit.<locals>.func_wrapper.<locals>.wrapper\u001b[39m\u001b[34m(*args, **kwargs)\u001b[39m\n\u001b[32m     69\u001b[39m \u001b[38;5;129m@wraps\u001b[39m(func)\n\u001b[32m     70\u001b[39m \u001b[38;5;28;01mdef\u001b[39;00m\u001b[38;5;250m \u001b[39m\u001b[34mwrapper\u001b[39m(*args, **kwargs):\n\u001b[32m     71\u001b[39m     \u001b[38;5;28;01mtry\u001b[39;00m:\n\u001b[32m---> \u001b[39m\u001b[32m72\u001b[39m         retval = \u001b[43mcfunc\u001b[49m\u001b[43m(\u001b[49m\u001b[43m*\u001b[49m\u001b[43margs\u001b[49m\u001b[43m,\u001b[49m\u001b[43m \u001b[49m\u001b[43m*\u001b[49m\u001b[43m*\u001b[49m\u001b[43mkwargs\u001b[49m\u001b[43m)\u001b[49m\n\u001b[32m     73\u001b[39m     \u001b[38;5;28;01mexcept\u001b[39;00m \u001b[38;5;167;01mTypeError\u001b[39;00m \u001b[38;5;28;01mas\u001b[39;00m e:\n\u001b[32m     74\u001b[39m         \u001b[38;5;28;01mif\u001b[39;00m \u001b[38;5;129;01mnot\u001b[39;00m e.args \u001b[38;5;129;01mor\u001b[39;00m \u001b[38;5;129;01mnot\u001b[39;00m e.args[\u001b[32m0\u001b[39m].startswith(\u001b[33m'\u001b[39m\u001b[33munhashable type:\u001b[39m\u001b[33m'\u001b[39m):\n",
      "\u001b[36mFile \u001b[39m\u001b[32md:\\venv\\Lib\\site-packages\\sympy\\core\\expr.py:3681\u001b[39m, in \u001b[36mExpr.expand\u001b[39m\u001b[34m(self, deep, modulus, power_base, power_exp, mul, log, multinomial, basic, **hints)\u001b[39m\n\u001b[32m   3678\u001b[39m     expr, _ = Expr._expand_hint(\n\u001b[32m   3679\u001b[39m         expr, \u001b[33m'\u001b[39m\u001b[33m_eval_expand_multinomial\u001b[39m\u001b[33m'\u001b[39m, deep=deep, **hints)\n\u001b[32m   3680\u001b[39m \u001b[38;5;28;01mif\u001b[39;00m hints.get(\u001b[33m'\u001b[39m\u001b[33mmul\u001b[39m\u001b[33m'\u001b[39m, \u001b[38;5;28;01mFalse\u001b[39;00m):\n\u001b[32m-> \u001b[39m\u001b[32m3681\u001b[39m     expr, _ = \u001b[43mExpr\u001b[49m\u001b[43m.\u001b[49m\u001b[43m_expand_hint\u001b[49m\u001b[43m(\u001b[49m\n\u001b[32m   3682\u001b[39m \u001b[43m        \u001b[49m\u001b[43mexpr\u001b[49m\u001b[43m,\u001b[49m\u001b[43m \u001b[49m\u001b[33;43m'\u001b[39;49m\u001b[33;43m_eval_expand_mul\u001b[39;49m\u001b[33;43m'\u001b[39;49m\u001b[43m,\u001b[49m\u001b[43m \u001b[49m\u001b[43mdeep\u001b[49m\u001b[43m=\u001b[49m\u001b[43mdeep\u001b[49m\u001b[43m,\u001b[49m\u001b[43m \u001b[49m\u001b[43m*\u001b[49m\u001b[43m*\u001b[49m\u001b[43mhints\u001b[49m\u001b[43m)\u001b[49m\n\u001b[32m   3683\u001b[39m \u001b[38;5;28;01mif\u001b[39;00m hints.get(\u001b[33m'\u001b[39m\u001b[33mlog\u001b[39m\u001b[33m'\u001b[39m, \u001b[38;5;28;01mFalse\u001b[39;00m):\n\u001b[32m   3684\u001b[39m     expr, _ = Expr._expand_hint(\n\u001b[32m   3685\u001b[39m         expr, \u001b[33m'\u001b[39m\u001b[33m_eval_expand_log\u001b[39m\u001b[33m'\u001b[39m, deep=deep, **hints)\n",
      "\u001b[36mFile \u001b[39m\u001b[32md:\\venv\\Lib\\site-packages\\sympy\\core\\expr.py:3604\u001b[39m, in \u001b[36mExpr._expand_hint\u001b[39m\u001b[34m(expr, hint, deep, **hints)\u001b[39m\n\u001b[32m   3602\u001b[39m sargs = []\n\u001b[32m   3603\u001b[39m \u001b[38;5;28;01mfor\u001b[39;00m arg \u001b[38;5;129;01min\u001b[39;00m expr.args:\n\u001b[32m-> \u001b[39m\u001b[32m3604\u001b[39m     arg, arghit = \u001b[43mExpr\u001b[49m\u001b[43m.\u001b[49m\u001b[43m_expand_hint\u001b[49m\u001b[43m(\u001b[49m\u001b[43marg\u001b[49m\u001b[43m,\u001b[49m\u001b[43m \u001b[49m\u001b[43mhint\u001b[49m\u001b[43m,\u001b[49m\u001b[43m \u001b[49m\u001b[43m*\u001b[49m\u001b[43m*\u001b[49m\u001b[43mhints\u001b[49m\u001b[43m)\u001b[49m\n\u001b[32m   3605\u001b[39m     hit |= arghit\n\u001b[32m   3606\u001b[39m     sargs.append(arg)\n",
      "\u001b[36mFile \u001b[39m\u001b[32md:\\venv\\Lib\\site-packages\\sympy\\core\\expr.py:3604\u001b[39m, in \u001b[36mExpr._expand_hint\u001b[39m\u001b[34m(expr, hint, deep, **hints)\u001b[39m\n\u001b[32m   3602\u001b[39m sargs = []\n\u001b[32m   3603\u001b[39m \u001b[38;5;28;01mfor\u001b[39;00m arg \u001b[38;5;129;01min\u001b[39;00m expr.args:\n\u001b[32m-> \u001b[39m\u001b[32m3604\u001b[39m     arg, arghit = \u001b[43mExpr\u001b[49m\u001b[43m.\u001b[49m\u001b[43m_expand_hint\u001b[49m\u001b[43m(\u001b[49m\u001b[43marg\u001b[49m\u001b[43m,\u001b[49m\u001b[43m \u001b[49m\u001b[43mhint\u001b[49m\u001b[43m,\u001b[49m\u001b[43m \u001b[49m\u001b[43m*\u001b[49m\u001b[43m*\u001b[49m\u001b[43mhints\u001b[49m\u001b[43m)\u001b[49m\n\u001b[32m   3605\u001b[39m     hit |= arghit\n\u001b[32m   3606\u001b[39m     sargs.append(arg)\n",
      "    \u001b[31m[... skipping similar frames: Expr._expand_hint at line 3604 (1 times)]\u001b[39m\n",
      "\u001b[36mFile \u001b[39m\u001b[32md:\\venv\\Lib\\site-packages\\sympy\\core\\expr.py:3604\u001b[39m, in \u001b[36mExpr._expand_hint\u001b[39m\u001b[34m(expr, hint, deep, **hints)\u001b[39m\n\u001b[32m   3602\u001b[39m sargs = []\n\u001b[32m   3603\u001b[39m \u001b[38;5;28;01mfor\u001b[39;00m arg \u001b[38;5;129;01min\u001b[39;00m expr.args:\n\u001b[32m-> \u001b[39m\u001b[32m3604\u001b[39m     arg, arghit = \u001b[43mExpr\u001b[49m\u001b[43m.\u001b[49m\u001b[43m_expand_hint\u001b[49m\u001b[43m(\u001b[49m\u001b[43marg\u001b[49m\u001b[43m,\u001b[49m\u001b[43m \u001b[49m\u001b[43mhint\u001b[49m\u001b[43m,\u001b[49m\u001b[43m \u001b[49m\u001b[43m*\u001b[49m\u001b[43m*\u001b[49m\u001b[43mhints\u001b[49m\u001b[43m)\u001b[49m\n\u001b[32m   3605\u001b[39m     hit |= arghit\n\u001b[32m   3606\u001b[39m     sargs.append(arg)\n",
      "\u001b[36mFile \u001b[39m\u001b[32md:\\venv\\Lib\\site-packages\\sympy\\core\\expr.py:3612\u001b[39m, in \u001b[36mExpr._expand_hint\u001b[39m\u001b[34m(expr, hint, deep, **hints)\u001b[39m\n\u001b[32m   3609\u001b[39m         expr = expr.func(*sargs)\n\u001b[32m   3611\u001b[39m \u001b[38;5;28;01mif\u001b[39;00m \u001b[38;5;28mhasattr\u001b[39m(expr, hint):\n\u001b[32m-> \u001b[39m\u001b[32m3612\u001b[39m     newexpr = \u001b[38;5;28;43mgetattr\u001b[39;49m\u001b[43m(\u001b[49m\u001b[43mexpr\u001b[49m\u001b[43m,\u001b[49m\u001b[43m \u001b[49m\u001b[43mhint\u001b[49m\u001b[43m)\u001b[49m\u001b[43m(\u001b[49m\u001b[43m*\u001b[49m\u001b[43m*\u001b[49m\u001b[43mhints\u001b[49m\u001b[43m)\u001b[49m\n\u001b[32m   3613\u001b[39m     \u001b[38;5;28;01mif\u001b[39;00m newexpr != expr:\n\u001b[32m   3614\u001b[39m         \u001b[38;5;28;01mreturn\u001b[39;00m (newexpr, \u001b[38;5;28;01mTrue\u001b[39;00m)\n",
      "\u001b[36mFile \u001b[39m\u001b[32md:\\venv\\Lib\\site-packages\\sympy\\core\\mul.py:923\u001b[39m, in \u001b[36mMul._eval_expand_mul\u001b[39m\u001b[34m(self, **hints)\u001b[39m\n\u001b[32m    921\u001b[39m expr = \u001b[38;5;28mself\u001b[39m\n\u001b[32m    922\u001b[39m \u001b[38;5;66;03m# default matches fraction's default\u001b[39;00m\n\u001b[32m--> \u001b[39m\u001b[32m923\u001b[39m n, d = \u001b[43mfraction\u001b[49m\u001b[43m(\u001b[49m\u001b[43mexpr\u001b[49m\u001b[43m,\u001b[49m\u001b[43m \u001b[49m\u001b[43mhints\u001b[49m\u001b[43m.\u001b[49m\u001b[43mget\u001b[49m\u001b[43m(\u001b[49m\u001b[33;43m'\u001b[39;49m\u001b[33;43mexact\u001b[39;49m\u001b[33;43m'\u001b[39;49m\u001b[43m,\u001b[49m\u001b[43m \u001b[49m\u001b[38;5;28;43;01mFalse\u001b[39;49;00m\u001b[43m)\u001b[49m\u001b[43m)\u001b[49m\n\u001b[32m    924\u001b[39m \u001b[38;5;28;01mif\u001b[39;00m d.is_Mul:\n\u001b[32m    925\u001b[39m     n, d = [i._eval_expand_mul(**hints) \u001b[38;5;28;01mif\u001b[39;00m i.is_Mul \u001b[38;5;28;01melse\u001b[39;00m i\n\u001b[32m    926\u001b[39m         \u001b[38;5;28;01mfor\u001b[39;00m i \u001b[38;5;129;01min\u001b[39;00m (n, d)]\n",
      "\u001b[36mFile \u001b[39m\u001b[32md:\\venv\\Lib\\site-packages\\sympy\\simplify\\radsimp.py:1131\u001b[39m, in \u001b[36mfraction\u001b[39m\u001b[34m(expr, exact)\u001b[39m\n\u001b[32m   1129\u001b[39m     \u001b[38;5;28;01melse\u001b[39;00m:\n\u001b[32m   1130\u001b[39m         numer.append(term)\n\u001b[32m-> \u001b[39m\u001b[32m1131\u001b[39m \u001b[38;5;28;01mreturn\u001b[39;00m \u001b[43mMul\u001b[49m\u001b[43m(\u001b[49m\u001b[43m*\u001b[49m\u001b[43mnumer\u001b[49m\u001b[43m,\u001b[49m\u001b[43m \u001b[49m\u001b[43mevaluate\u001b[49m\u001b[43m=\u001b[49m\u001b[38;5;129;43;01mnot\u001b[39;49;00m\u001b[43m \u001b[49m\u001b[43mexact\u001b[49m\u001b[43m)\u001b[49m, Mul(*denom, evaluate=\u001b[38;5;129;01mnot\u001b[39;00m exact)\n",
      "\u001b[36mFile \u001b[39m\u001b[32md:\\venv\\Lib\\site-packages\\sympy\\core\\cache.py:72\u001b[39m, in \u001b[36m__cacheit.<locals>.func_wrapper.<locals>.wrapper\u001b[39m\u001b[34m(*args, **kwargs)\u001b[39m\n\u001b[32m     69\u001b[39m \u001b[38;5;129m@wraps\u001b[39m(func)\n\u001b[32m     70\u001b[39m \u001b[38;5;28;01mdef\u001b[39;00m\u001b[38;5;250m \u001b[39m\u001b[34mwrapper\u001b[39m(*args, **kwargs):\n\u001b[32m     71\u001b[39m     \u001b[38;5;28;01mtry\u001b[39;00m:\n\u001b[32m---> \u001b[39m\u001b[32m72\u001b[39m         retval = \u001b[43mcfunc\u001b[49m\u001b[43m(\u001b[49m\u001b[43m*\u001b[49m\u001b[43margs\u001b[49m\u001b[43m,\u001b[49m\u001b[43m \u001b[49m\u001b[43m*\u001b[49m\u001b[43m*\u001b[49m\u001b[43mkwargs\u001b[49m\u001b[43m)\u001b[49m\n\u001b[32m     73\u001b[39m     \u001b[38;5;28;01mexcept\u001b[39;00m \u001b[38;5;167;01mTypeError\u001b[39;00m \u001b[38;5;28;01mas\u001b[39;00m e:\n\u001b[32m     74\u001b[39m         \u001b[38;5;28;01mif\u001b[39;00m \u001b[38;5;129;01mnot\u001b[39;00m e.args \u001b[38;5;129;01mor\u001b[39;00m \u001b[38;5;129;01mnot\u001b[39;00m e.args[\u001b[32m0\u001b[39m].startswith(\u001b[33m'\u001b[39m\u001b[33munhashable type:\u001b[39m\u001b[33m'\u001b[39m):\n",
      "\u001b[36mFile \u001b[39m\u001b[32md:\\venv\\Lib\\site-packages\\sympy\\core\\operations.py:98\u001b[39m, in \u001b[36mAssocOp.__new__\u001b[39m\u001b[34m(cls, evaluate, _sympify, *args)\u001b[39m\n\u001b[32m     95\u001b[39m \u001b[38;5;28;01mif\u001b[39;00m \u001b[38;5;28mlen\u001b[39m(args) == \u001b[32m1\u001b[39m:\n\u001b[32m     96\u001b[39m     \u001b[38;5;28;01mreturn\u001b[39;00m args[\u001b[32m0\u001b[39m]\n\u001b[32m---> \u001b[39m\u001b[32m98\u001b[39m c_part, nc_part, order_symbols = \u001b[38;5;28;43mcls\u001b[39;49m\u001b[43m.\u001b[49m\u001b[43mflatten\u001b[49m\u001b[43m(\u001b[49m\u001b[43margs\u001b[49m\u001b[43m)\u001b[49m\n\u001b[32m     99\u001b[39m is_commutative = \u001b[38;5;129;01mnot\u001b[39;00m nc_part\n\u001b[32m    100\u001b[39m obj = \u001b[38;5;28mcls\u001b[39m._from_args(c_part + nc_part, is_commutative)\n",
      "\u001b[36mFile \u001b[39m\u001b[32md:\\venv\\Lib\\site-packages\\sympy\\core\\mul.py:704\u001b[39m, in \u001b[36mMul.flatten\u001b[39m\u001b[34m(cls, seq)\u001b[39m\n\u001b[32m    701\u001b[39m c_part = _new\n\u001b[32m    703\u001b[39m \u001b[38;5;66;03m# order commutative part canonically\u001b[39;00m\n\u001b[32m--> \u001b[39m\u001b[32m704\u001b[39m \u001b[43m_mulsort\u001b[49m\u001b[43m(\u001b[49m\u001b[43mc_part\u001b[49m\u001b[43m)\u001b[49m\n\u001b[32m    706\u001b[39m \u001b[38;5;66;03m# current code expects coeff to be always in slot-0\u001b[39;00m\n\u001b[32m    707\u001b[39m \u001b[38;5;28;01mif\u001b[39;00m coeff \u001b[38;5;129;01mis\u001b[39;00m \u001b[38;5;129;01mnot\u001b[39;00m S.One:\n",
      "\u001b[36mFile \u001b[39m\u001b[32md:\\venv\\Lib\\site-packages\\sympy\\core\\mul.py:34\u001b[39m, in \u001b[36m_mulsort\u001b[39m\u001b[34m(args)\u001b[39m\n\u001b[32m     32\u001b[39m \u001b[38;5;28;01mdef\u001b[39;00m\u001b[38;5;250m \u001b[39m\u001b[34m_mulsort\u001b[39m(args):\n\u001b[32m     33\u001b[39m     \u001b[38;5;66;03m# in-place sorting of args\u001b[39;00m\n\u001b[32m---> \u001b[39m\u001b[32m34\u001b[39m     \u001b[43margs\u001b[49m\u001b[43m.\u001b[49m\u001b[43msort\u001b[49m\u001b[43m(\u001b[49m\u001b[43mkey\u001b[49m\u001b[43m=\u001b[49m\u001b[43m_args_sortkey\u001b[49m\u001b[43m)\u001b[49m\n",
      "\u001b[36mFile \u001b[39m\u001b[32md:\\venv\\Lib\\site-packages\\sympy\\core\\basic.py:354\u001b[39m, in \u001b[36mBasic.compare\u001b[39m\u001b[34m(self, other)\u001b[39m\n\u001b[32m    352\u001b[39m r = Basic(*r) \u001b[38;5;28;01mif\u001b[39;00m \u001b[38;5;28misinstance\u001b[39m(r, \u001b[38;5;28mfrozenset\u001b[39m) \u001b[38;5;28;01melse\u001b[39;00m r\n\u001b[32m    353\u001b[39m \u001b[38;5;28;01mif\u001b[39;00m \u001b[38;5;28misinstance\u001b[39m(l, Basic):\n\u001b[32m--> \u001b[39m\u001b[32m354\u001b[39m     c = \u001b[43ml\u001b[49m\u001b[43m.\u001b[49m\u001b[43mcompare\u001b[49m\u001b[43m(\u001b[49m\u001b[43mr\u001b[49m\u001b[43m)\u001b[49m\n\u001b[32m    355\u001b[39m \u001b[38;5;28;01melse\u001b[39;00m:\n\u001b[32m    356\u001b[39m     c = (l > r) - (l < r)\n",
      "\u001b[36mFile \u001b[39m\u001b[32md:\\venv\\Lib\\site-packages\\sympy\\core\\basic.py:345\u001b[39m, in \u001b[36mBasic.compare\u001b[39m\u001b[34m(self, other)\u001b[39m\n\u001b[32m    343\u001b[39m     \u001b[38;5;28;01mreturn\u001b[39;00m c\n\u001b[32m    344\u001b[39m \u001b[38;5;66;03m#\u001b[39;00m\n\u001b[32m--> \u001b[39m\u001b[32m345\u001b[39m st = \u001b[38;5;28;43mself\u001b[39;49m\u001b[43m.\u001b[49m\u001b[43m_hashable_content\u001b[49m\u001b[43m(\u001b[49m\u001b[43m)\u001b[49m\n\u001b[32m    346\u001b[39m ot = other._hashable_content()\n\u001b[32m    347\u001b[39m c = (\u001b[38;5;28mlen\u001b[39m(st) > \u001b[38;5;28mlen\u001b[39m(ot)) - (\u001b[38;5;28mlen\u001b[39m(st) < \u001b[38;5;28mlen\u001b[39m(ot))\n",
      "\u001b[36mFile \u001b[39m\u001b[32md:\\venv\\Lib\\site-packages\\sympy\\core\\symbol.py:507\u001b[39m, in \u001b[36mDummy._hashable_content\u001b[39m\u001b[34m(self)\u001b[39m\n\u001b[32m    506\u001b[39m \u001b[38;5;28;01mdef\u001b[39;00m\u001b[38;5;250m \u001b[39m\u001b[34m_hashable_content\u001b[39m(\u001b[38;5;28mself\u001b[39m):\n\u001b[32m--> \u001b[39m\u001b[32m507\u001b[39m     \u001b[38;5;28;01mreturn\u001b[39;00m \u001b[43mSymbol\u001b[49m\u001b[43m.\u001b[49m\u001b[43m_hashable_content\u001b[49m\u001b[43m(\u001b[49m\u001b[38;5;28;43mself\u001b[39;49m\u001b[43m)\u001b[49m + (\u001b[38;5;28mself\u001b[39m.dummy_index,)\n",
      "\u001b[36mFile \u001b[39m\u001b[32md:\\venv\\Lib\\site-packages\\sympy\\core\\symbol.py:397\u001b[39m, in \u001b[36mSymbol._hashable_content\u001b[39m\u001b[34m(self)\u001b[39m\n\u001b[32m    395\u001b[39m \u001b[38;5;28;01mdef\u001b[39;00m\u001b[38;5;250m \u001b[39m\u001b[34m_hashable_content\u001b[39m(\u001b[38;5;28mself\u001b[39m):\n\u001b[32m    396\u001b[39m     \u001b[38;5;66;03m# Note: user-specified assumptions not hashed, just derived ones\u001b[39;00m\n\u001b[32m--> \u001b[39m\u001b[32m397\u001b[39m     \u001b[38;5;28;01mreturn\u001b[39;00m (\u001b[38;5;28mself\u001b[39m.name,) + \u001b[38;5;28;43mtuple\u001b[39;49m\u001b[43m(\u001b[49m\u001b[38;5;28;43msorted\u001b[39;49m\u001b[43m(\u001b[49m\u001b[38;5;28;43mself\u001b[39;49m\u001b[43m.\u001b[49m\u001b[43massumptions0\u001b[49m\u001b[43m.\u001b[49m\u001b[43mitems\u001b[49m\u001b[43m(\u001b[49m\u001b[43m)\u001b[49m\u001b[43m)\u001b[49m\u001b[43m)\u001b[49m\n",
      "\u001b[31mKeyboardInterrupt\u001b[39m: "
     ]
    }
   ],
   "source": [
    "from sympy import symbols, solve, Eq\n",
    "\n",
    "# Define symbols for the coordinates of point T on the line segment PQ\n",
    "x, y = symbols('x y', real=True)\n",
    "\n",
    "# Given points coordinates (assume A, B, P, Q coordinates for general case)\n",
    "# Let's assume the coordinates of A, B, P, Q as variables for now to keep it general\n",
    "xA, yA = symbols('xA yA', real=True)\n",
    "xB, yB = symbols('xB yB', real=True)\n",
    "xP, yP = symbols('xP yP', real=True)\n",
    "xQ, yQ = symbols('xQ yQ', real=True)\n",
    "\n",
    "# Parametric form of T on segment PQ: T = P + t(Q - P)\n",
    "# t is between 0 and 1\n",
    "# So, x = xP + t(xQ - xP), y = yP + t(yQ - yP)\n",
    "\n",
    "t = symbols('t', real=True)\n",
    "x = xP + t*(xQ - xP)\n",
    "y = yP + t*(yQ - yP)\n",
    "\n",
    "# Distance function from T to A and B\n",
    "from sympy import sqrt\n",
    "\n",
    "D1 = sqrt((x - xA)**2 + (y - yA)**2)\n",
    "D2 = sqrt((x - xB)**2 + (y - yB)**2)\n",
    "\n",
    "# Objective function to minimize: D1 + D2\n",
    "f = D1 + D2\n",
    "\n",
    "# Take derivative of f with respect to t and set to zero for minimum\n",
    "from sympy import diff\n",
    "\n",
    "f_prime = diff(f, t)\n",
    "\n",
    "# Solve f_prime = 0 for t\n",
    "solution_t = solve(Eq(f_prime, 0), t)\n",
    "solution_t"
   ]
  }
 ],
 "metadata": {
  "kernelspec": {
   "display_name": "venv",
   "language": "python",
   "name": "python3"
  },
  "language_info": {
   "codemirror_mode": {
    "name": "ipython",
    "version": 3
   },
   "file_extension": ".py",
   "mimetype": "text/x-python",
   "name": "python",
   "nbconvert_exporter": "python",
   "pygments_lexer": "ipython3",
   "version": "3.13.1"
  }
 },
 "nbformat": 4,
 "nbformat_minor": 5
}
