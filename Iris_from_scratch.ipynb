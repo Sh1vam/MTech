{
  "nbformat": 4,
  "nbformat_minor": 0,
  "metadata": {
    "colab": {
      "provenance": [],
      "authorship_tag": "ABX9TyNqnhFIfjmkWa6x+8t+EF1b",
      "include_colab_link": true
    },
    "kernelspec": {
      "name": "python3",
      "display_name": "Python 3"
    },
    "language_info": {
      "name": "python"
    }
  },
  "cells": [
    {
      "cell_type": "markdown",
      "metadata": {
        "id": "view-in-github",
        "colab_type": "text"
      },
      "source": [
        "<a href=\"https://colab.research.google.com/github/Sh1vam/MTech/blob/master/Iris_from_scratch.ipynb\" target=\"_parent\"><img src=\"https://colab.research.google.com/assets/colab-badge.svg\" alt=\"Open In Colab\"/></a>"
      ]
    },
    {
      "cell_type": "markdown",
      "source": [
        "Internal Assessment 1 ( M.Tech AI 2025 batch)\n",
        "Subject: NNDL\n",
        "Time: 30 Minutes\n",
        "Marks: 25\n",
        "Question\n",
        "Implement a Deep Neural Network (DNN) from scratch (without using high-level APIs\n",
        "like model.fit or Sequential) on the Iris dataset.\n",
        "Instructions:\n",
        "1) Load the Iris dataset using sklearn.datasets.load_iris.\n",
        "2) Preprocess:\n",
        "a) One-hot encoded labels.\n",
        "b) Normalize features.\n",
        "c) Split into train/test.\n",
        "3) Build a DNN with:\n",
        "a) Input layer (4 features)\n",
        "b) Two hidden layers (at least 8 neurons each, ReLU activation)\n",
        "c) Output layer (3 classes, Softmax activation)\n",
        "4) Implement forward pass and backpropagation manually (using only NumPy, not\n",
        "PyTorch/Keras).\n",
        "5) Train for 50 epochs with a suitable learning rate.\n",
        "6) Print:\n",
        "a) Final training accuracy\n",
        "b) Final test accuracy\n",
        "Bonus (5 marks):\n",
        "● Implement early stopping (stop training if validation loss increases for 3 consecutive\n",
        "epochs)."
      ],
      "metadata": {
        "id": "ERwP_5LBhHgP"
      }
    },
    {
      "cell_type": "code",
      "execution_count": 117,
      "metadata": {
        "id": "bkgh3nKGgADD"
      },
      "outputs": [],
      "source": [
        "import jax.numpy as np\n",
        "from jax.nn import relu, sigmoid\n",
        "from jax import random"
      ]
    },
    {
      "cell_type": "code",
      "source": [
        "from sklearn.datasets import load_iris\n",
        "from sklearn.model_selection import train_test_split\n",
        "from sklearn.preprocessing import OneHotEncoder, StandardScaler"
      ],
      "metadata": {
        "id": "P6oSqTlhhXoJ"
      },
      "execution_count": 118,
      "outputs": []
    },
    {
      "cell_type": "code",
      "source": [
        "# Load the Iris dataset\n",
        "iris = load_iris()\n",
        "X, y = iris.data, iris.target\n",
        "\n",
        "# One-hot encode labels\n",
        "encoder = OneHotEncoder(sparse_output=False)\n",
        "y_one_hot = encoder.fit_transform(y.reshape(-1, 1))\n",
        "\n",
        "# Normalize features\n",
        "scaler = StandardScaler()\n",
        "X_normalized = scaler.fit_transform(X)\n",
        "\n",
        "# Split into train/test\n",
        "X_train, X_test, y_train, y_test = train_test_split(X_normalized, y_one_hot, test_size=0.2, random_state=42)\n",
        "\n",
        "print(\"Preprocessing complete.\")\n",
        "print(\"Shape of X_train:\", X_train.shape)\n",
        "print(\"Shape of y_train:\", y_train.shape)\n",
        "print(\"Shape of X_test:\", X_test.shape)\n",
        "print(\"Shape of y_test:\", y_test.shape)"
      ],
      "metadata": {
        "colab": {
          "base_uri": "https://localhost:8080/"
        },
        "id": "o0jZIWZHh5o5",
        "outputId": "cbe07066-602f-4e34-f97a-5f3982af26c3"
      },
      "execution_count": 119,
      "outputs": [
        {
          "output_type": "stream",
          "name": "stdout",
          "text": [
            "Preprocessing complete.\n",
            "Shape of X_train: (120, 4)\n",
            "Shape of y_train: (120, 3)\n",
            "Shape of X_test: (30, 4)\n",
            "Shape of y_test: (30, 3)\n"
          ]
        }
      ]
    },
    {
      "cell_type": "code",
      "metadata": {
        "colab": {
          "base_uri": "https://localhost:8080/"
        },
        "id": "95257627",
        "outputId": "1daf2609-fdb6-4c72-9494-581e98f05c05"
      },
      "source": [
        "def initialize_parameters(input_size, hidden_size1, hidden_size2, output_size, key):\n",
        "\n",
        "    key, subkey1 = random.split(key)\n",
        "    W1 = random.normal(subkey1, (hidden_size1, input_size))\n",
        "    b1 = np.zeros((hidden_size1, 1))\n",
        "\n",
        "    key, subkey2 = random.split(key)\n",
        "    W2 = random.normal(subkey2, (hidden_size2, hidden_size1))\n",
        "    b2 = np.zeros((hidden_size2, 1))\n",
        "\n",
        "    key, subkey3 = random.split(key)\n",
        "    W3 = random.normal(subkey3, (output_size, hidden_size2))\n",
        "    b3 = np.zeros((output_size, 1))\n",
        "\n",
        "\n",
        "    parameters = {\"W1\": W1, \"b1\": b1, \"W2\": W2, \"b2\": b2, \"W3\": W3, \"b3\": b3}\n",
        "    return parameters, key\n",
        "\n",
        "# Initialize parameters\n",
        "input_size = X_train.shape[1]\n",
        "hidden_size1 = 8\n",
        "hidden_size2 = 8\n",
        "output_size = y_train.shape[1]\n",
        "key = random.PRNGKey(42)\n",
        "\n",
        "parameters, key = initialize_parameters(input_size, hidden_size1, hidden_size2, output_size, key)\n",
        "\n",
        "print(\"Parameters initialized.\")\n",
        "for layer, param in parameters.items():\n",
        "    print(f\"{layer}: {param.shape}\")"
      ],
      "execution_count": 120,
      "outputs": [
        {
          "output_type": "stream",
          "name": "stdout",
          "text": [
            "Parameters initialized.\n",
            "W1: (8, 4)\n",
            "b1: (8, 1)\n",
            "W2: (8, 8)\n",
            "b2: (8, 1)\n",
            "W3: (3, 8)\n",
            "b3: (3, 1)\n"
          ]
        }
      ]
    },
    {
      "cell_type": "code",
      "metadata": {
        "id": "e5596288"
      },
      "source": [
        "def relu(x):\n",
        "    return np.maximum(0, x)\n",
        "\n",
        "def softmax(x):\n",
        "    exp_x = np.exp(x - np.max(x, axis=0, keepdims=True)) # Subtract max for numerical stability\n",
        "    return exp_x / np.sum(exp_x, axis=0, keepdims=True)"
      ],
      "execution_count": 121,
      "outputs": []
    },
    {
      "cell_type": "code",
      "metadata": {
        "id": "5e32677f"
      },
      "source": [
        "def forward_pass(X, parameters):\n",
        "\n",
        "    W1, b1, W2, b2, W3, b3 = parameters['W1'], parameters['b1'], parameters['W2'], parameters['b2'], parameters['W3'], parameters['b3']\n",
        "\n",
        "    # First hidden layer\n",
        "    Z1 = np.dot(W1, X.T) + b1\n",
        "    A1 = relu(Z1)\n",
        "\n",
        "    # Second hidden layer\n",
        "    Z2 = np.dot(W2, A1) + b2\n",
        "    A2 = relu(Z2)\n",
        "\n",
        "    # Output layer\n",
        "    Z3 = np.dot(W3, A2) + b3\n",
        "    A3 = softmax(Z3)\n",
        "\n",
        "    caches = {\"Z1\": Z1, \"A1\": A1, \"Z2\": Z2, \"A2\": A2, \"Z3\": Z3, \"A3\": A3}\n",
        "\n",
        "    return A3, caches"
      ],
      "execution_count": 122,
      "outputs": []
    },
    {
      "cell_type": "code",
      "metadata": {
        "id": "250e03ba"
      },
      "source": [
        "def compute_loss(A4, Y):\n",
        "\n",
        "    m = Y.shape[1]\n",
        "    # Compute loss\n",
        "    loss = -np.sum(Y * np.log(A4 + 1e-9)) / m # prevent log(0)\n",
        "    return loss"
      ],
      "execution_count": 123,
      "outputs": []
    },
    {
      "cell_type": "code",
      "metadata": {
        "id": "99c90d74"
      },
      "source": [
        "def backward_pass(parameters, caches, X, Y):\n",
        "\n",
        "    m = X.shape[0] # number of examples\n",
        "\n",
        "    A1 = caches['A1']\n",
        "    A2 = caches['A2']\n",
        "    A3 = caches['A3']\n",
        "    W3 = parameters['W3']\n",
        "    W2 = parameters['W2']\n",
        "    W1 = parameters['W1']\n",
        "\n",
        "    # Backward pass for output layer\n",
        "    dZ3 = A3 - Y.T # Derivative of loss with respect to Z3\n",
        "    dW3 = np.dot(dZ3, A2.T) / m\n",
        "    db3 = np.sum(dZ3, axis=1, keepdims=True) / m\n",
        "\n",
        "    # Backward pass for second hidden layer\n",
        "    dA2 = np.dot(W3.T, dZ3)\n",
        "    dZ2 = dA2 * (A2 > 0) # Derivative of ReLU\n",
        "    dW2 = np.dot(dZ2, A1.T) / m\n",
        "    db2 = np.sum(dZ2, axis=1, keepdims=True) / m\n",
        "\n",
        "    # Backward pass for first hidden layer\n",
        "    dA1 = np.dot(W2.T, dZ2)\n",
        "    dZ1 = dA1 * (A1 > 0) # Derivative of ReLU\n",
        "    dW1 = np.dot(dZ1, X) / m\n",
        "    db1 = np.sum(dZ1, axis=1, keepdims=True) / m\n",
        "\n",
        "\n",
        "    grads = {\"dW1\": dW1, \"db1\": db1, \"dW2\": dW2, \"db2\": db2, \"dW3\": dW3, \"db3\": db3}\n",
        "    return grads"
      ],
      "execution_count": 124,
      "outputs": []
    },
    {
      "cell_type": "code",
      "metadata": {
        "id": "2a5f622b"
      },
      "source": [
        "def update_parameters(parameters, grads, learning_rate):\n",
        "\n",
        "    W1, b1, W2, b2, W3, b3 = parameters['W1'], parameters['b1'], parameters['W2'], parameters['b2'], parameters['W3'], parameters['b3']\n",
        "    dW1, db1, dW2, db2, dW3, db3 = grads['dW1'], grads['db1'], grads['dW2'], grads['db2'], grads['dW3'], grads['db3']\n",
        "\n",
        "    W1 -= learning_rate * dW1\n",
        "    b1 -= learning_rate * db1\n",
        "    W2 -= learning_rate * dW2\n",
        "    b2 -= learning_rate * db2\n",
        "    W3 -= learning_rate * dW3\n",
        "    b3 -= learning_rate * db3\n",
        "\n",
        "    parameters = {\"W1\": W1, \"b1\": b1, \"W2\": W2, \"b2\": b2, \"W3\": W3, \"b3\": b3}\n",
        "\n",
        "    return parameters"
      ],
      "execution_count": 125,
      "outputs": []
    },
    {
      "cell_type": "code",
      "metadata": {
        "id": "8711f2d4"
      },
      "source": [
        "def predict(parameters, X):\n",
        "\n",
        "    A3, caches = forward_pass(X, parameters)\n",
        "    predictions = np.argmax(A3, axis=0)\n",
        "    return predictions\n",
        "\n",
        "def calculate_accuracy(parameters, X, Y):\n",
        "\n",
        "    predictions = predict(parameters, X)\n",
        "    true_labels = np.argmax(Y, axis=1)\n",
        "    accuracy = np.mean(predictions == true_labels)\n",
        "    return accuracy"
      ],
      "execution_count": 126,
      "outputs": []
    },
    {
      "cell_type": "code",
      "metadata": {
        "colab": {
          "base_uri": "https://localhost:8080/"
        },
        "id": "61e1f809",
        "outputId": "3bdb9785-4f88-45e4-ac7f-d01317e6d23f"
      },
      "source": [
        "def train_dnn(X_train, y_train, X_test, y_test, parameters, learning_rate=0.01, epochs=50, early_stopping_patience=3):\n",
        "\n",
        "    train_losses = []\n",
        "    test_losses = []\n",
        "    train_accuracies = []\n",
        "    test_accuracies = []\n",
        "    best_test_loss = float('inf')\n",
        "    epochs_no_improve = 0\n",
        "\n",
        "    # Transpose training and test data for matrix multiplication\n",
        "    X_train_T = X_train.T\n",
        "    y_train_T = y_train.T\n",
        "    X_test_T = X_test.T\n",
        "    y_test_T = y_test.T\n",
        "\n",
        "\n",
        "    for i in range(epochs):\n",
        "        # Forward pass\n",
        "        A3_train, caches_train = forward_pass(X_train, parameters)\n",
        "\n",
        "        # Compute loss\n",
        "        train_loss = compute_loss(A3_train, y_train_T)\n",
        "        train_losses.append(train_loss)\n",
        "\n",
        "        # Backward pass\n",
        "        grads = backward_pass(parameters, caches_train, X_train, y_train)\n",
        "\n",
        "        # Update parameters\n",
        "        parameters = update_parameters(parameters, grads, learning_rate)\n",
        "\n",
        "        # Calculate accuracies\n",
        "        train_acc = calculate_accuracy(parameters, X_train, y_train)\n",
        "        train_accuracies.append(train_acc)\n",
        "        test_acc = calculate_accuracy(parameters, X_test, y_test)\n",
        "        test_accuracies.append(test_acc)\n",
        "\n",
        "        # Compute test loss for early stopping\n",
        "        A3_test, caches_test = forward_pass(X_test, parameters)\n",
        "        test_loss = compute_loss(A3_test, y_test_T)\n",
        "        test_losses.append(test_loss)\n",
        "\n",
        "        # Early stopping\n",
        "        if test_loss < best_test_loss:\n",
        "            best_test_loss = test_loss\n",
        "            epochs_no_improve = 0\n",
        "        else:\n",
        "            epochs_no_improve += 1\n",
        "            if epochs_no_improve == early_stopping_patience:\n",
        "                print(f\"Early stopping at epoch {i+1}\")\n",
        "                break\n",
        "\n",
        "\n",
        "        # Print loss and accuracy every 10 epochs\n",
        "        if i % 10 == 0:\n",
        "            print(f\"Epoch {i}: Train Loss = {train_loss:.4f}, Train Acc = {train_acc:.4f}, Test Loss = {test_loss:.4f}, Test Acc = {test_acc:.4f}\")\n",
        "\n",
        "    return parameters, train_losses, test_losses, train_accuracies, test_accuracies\n",
        "\n",
        "# Train the model\n",
        "learning_rate = 0.01\n",
        "epochs = 50\n",
        "early_stopping_patience = 3\n",
        "\n",
        "learned_parameters, train_losses, test_losses, train_accuracies, test_accuracies = train_dnn(X_train, y_train, X_test, y_test, parameters.copy(), learning_rate, epochs, early_stopping_patience)\n",
        "\n",
        "print(\"\\nTraining complete.\")\n",
        "print(f\"Final Training Accuracy: {train_accuracies[-1]:.4f}\")\n",
        "print(f\"Final Test Accuracy: {test_accuracies[-1]:.4f}\")"
      ],
      "execution_count": 127,
      "outputs": [
        {
          "output_type": "stream",
          "name": "stdout",
          "text": [
            "Epoch 0: Train Loss = 7.2205, Train Acc = 0.2250, Test Loss = 5.2417, Test Acc = 0.2000\n",
            "Epoch 10: Train Loss = 1.1996, Train Acc = 0.4833, Test Loss = 0.9719, Test Acc = 0.4667\n",
            "Epoch 20: Train Loss = 0.8398, Train Acc = 0.6167, Test Loss = 0.7487, Test Acc = 0.7000\n",
            "Epoch 30: Train Loss = 0.7576, Train Acc = 0.6500, Test Loss = 0.7137, Test Acc = 0.7333\n",
            "Epoch 40: Train Loss = 0.7119, Train Acc = 0.7000, Test Loss = 0.6911, Test Acc = 0.7333\n",
            "\n",
            "Training complete.\n",
            "Final Training Accuracy: 0.7000\n",
            "Final Test Accuracy: 0.7333\n"
          ]
        }
      ]
    },
    {
      "cell_type": "code",
      "metadata": {
        "colab": {
          "base_uri": "https://localhost:8080/"
        },
        "id": "107ab239",
        "outputId": "005d9465-7d13-4f2f-918e-be5e6f5bb199"
      },
      "source": [
        "train_accuracy = calculate_accuracy(learned_parameters, X_train, y_train)\n",
        "print(f\"Accuracy on training data: {train_accuracy:.4f}\")"
      ],
      "execution_count": 128,
      "outputs": [
        {
          "output_type": "stream",
          "name": "stdout",
          "text": [
            "Accuracy on training data: 0.7000\n"
          ]
        }
      ]
    },
    {
      "cell_type": "code",
      "metadata": {
        "colab": {
          "base_uri": "https://localhost:8080/",
          "height": 564
        },
        "id": "ea1113f7",
        "outputId": "b3e35734-421f-4492-db0b-72e75f991a9c"
      },
      "source": [
        "import matplotlib.pyplot as plt\n",
        "\n",
        "plt.figure(figsize=(10, 6))\n",
        "plt.plot(train_losses, label='Training Loss')\n",
        "plt.plot(test_losses, label='Test Loss')\n",
        "plt.xlabel('Epoch')\n",
        "plt.ylabel('Loss')\n",
        "plt.title('Training and Test Loss over Epochs')\n",
        "plt.legend()\n",
        "plt.grid(True)\n",
        "plt.show()"
      ],
      "execution_count": 129,
      "outputs": [
        {
          "output_type": "display_data",
          "data": {
            "text/plain": [
              "<Figure size 1000x600 with 1 Axes>"
            ],
            "image/png": "[encoded data removed]"
          },
          "metadata": {}
        }
      ]
    },
    {
      "cell_type": "code",
      "metadata": {
        "colab": {
          "base_uri": "https://localhost:8080/",
          "height": 989
        },
        "id": "526de5e7",
        "outputId": "423cb88f-5540-4f94-aae4-94716a4a9fe9"
      },
      "source": [
        "print(\"Learned Parameters:\")\n",
        "for layer, param in learned_parameters.items():\n",
        "    print(f\"{layer}:\")\n",
        "    display(param)"
      ],
      "execution_count": 130,
      "outputs": [
        {
          "output_type": "stream",
          "name": "stdout",
          "text": [
            "Learned Parameters:\n",
            "W1:\n"
          ]
        },
        {
          "output_type": "display_data",
          "data": {
            "text/plain": [
              "Array([[ 0.61878276,  0.7119288 , -0.86631024, -0.58923787],\n",
              "       [-1.2214384 , -0.68349963, -0.551711  , -1.3360661 ],\n",
              "       [-0.07498448, -0.27546352, -0.23797537, -0.23862703],\n",
              "       [ 1.2694912 ,  0.30876592,  0.3567422 , -0.32592508],\n",
              "       [-0.96405536,  0.43773866, -0.438019  , -0.92647535],\n",
              "       [-0.19780025,  0.5004735 , -0.39161012,  0.5488967 ],\n",
              "       [-0.13023804,  0.09662059,  0.7277491 ,  1.2278248 ],\n",
              "       [ 0.79052806, -1.0727439 , -0.70861334, -1.5888052 ]],      dtype=float32)"
            ]
          },
          "metadata": {}
        },
        {
          "output_type": "stream",
          "name": "stdout",
          "text": [
            "b1:\n"
          ]
        },
        {
          "output_type": "display_data",
          "data": {
            "text/plain": [
              "Array([[-0.07847612],\n",
              "       [ 0.04524044],\n",
              "       [-0.07394958],\n",
              "       [-0.00588192],\n",
              "       [-0.02116892],\n",
              "       [-0.19546604],\n",
              "       [-0.00620576],\n",
              "       [ 0.00596336]], dtype=float32)"
            ]
          },
          "metadata": {}
        },
        {
          "output_type": "stream",
          "name": "stdout",
          "text": [
            "W2:\n"
          ]
        },
        {
          "output_type": "display_data",
          "data": {
            "text/plain": [
              "Array([[-0.37119353, -1.4817883 , -0.08319935, -1.1609802 ,  1.713326  ,\n",
              "        -0.5337367 ,  0.5971065 ,  0.6457845 ],\n",
              "       [ 2.8543344 , -0.950956  ,  1.2795345 , -0.52010053,  0.37899378,\n",
              "         1.0066372 , -0.16291487, -0.48929957],\n",
              "       [ 0.55753726, -1.9148915 ,  0.39236748, -0.90931404, -0.28234646,\n",
              "         0.21757556,  0.36568996,  2.7380624 ],\n",
              "       [ 0.2499688 ,  1.5494723 ,  0.37857565, -1.9037962 , -1.2366792 ,\n",
              "         1.4515902 ,  0.09091887, -0.5137527 ],\n",
              "       [-1.4617422 , -0.76442987,  1.6949908 ,  0.00653101, -0.00491453,\n",
              "         1.0640842 , -0.1928376 , -0.420549  ],\n",
              "       [-0.98941827,  2.0229824 , -1.845466  ,  0.20129302, -0.13151798,\n",
              "        -0.495637  , -0.24941343, -0.33814767],\n",
              "       [ 1.0137577 , -0.15916744, -0.38853937, -1.021894  , -0.9188889 ,\n",
              "         0.47730815, -0.0080677 ,  0.86129326],\n",
              "       [ 1.8599299 ,  0.86132705, -1.025479  ,  0.03193827,  1.2237538 ,\n",
              "        -0.02837859, -0.05515801,  0.18974793]], dtype=float32)"
            ]
          },
          "metadata": {}
        },
        {
          "output_type": "stream",
          "name": "stdout",
          "text": [
            "b2:\n"
          ]
        },
        {
          "output_type": "display_data",
          "data": {
            "text/plain": [
              "Array([[-0.07463728],\n",
              "       [-0.03485385],\n",
              "       [ 0.00290589],\n",
              "       [-0.10571419],\n",
              "       [-0.05413526],\n",
              "       [-0.04713865],\n",
              "       [ 0.00045684],\n",
              "       [-0.10957437]], dtype=float32)"
            ]
          },
          "metadata": {}
        },
        {
          "output_type": "stream",
          "name": "stdout",
          "text": [
            "W3:\n"
          ]
        },
        {
          "output_type": "display_data",
          "data": {
            "text/plain": [
              "Array([[-0.34218875, -0.19650997, -1.0992069 , -1.5212278 ,  2.4698727 ,\n",
              "         0.7328895 , -0.7038619 ,  1.0375034 ],\n",
              "       [ 1.8777496 ,  0.9716818 , -1.046345  ,  2.151044  ,  1.5247531 ,\n",
              "        -0.03319552, -0.8009342 , -0.7155491 ],\n",
              "       [ 0.71273386, -0.01092328, -0.9884129 , -2.1432366 , -0.7201246 ,\n",
              "        -1.0502939 , -0.6441714 , -1.8949594 ]], dtype=float32)"
            ]
          },
          "metadata": {}
        },
        {
          "output_type": "stream",
          "name": "stdout",
          "text": [
            "b3:\n"
          ]
        },
        {
          "output_type": "display_data",
          "data": {
            "text/plain": [
              "Array([[-0.06859224],\n",
              "       [-0.02744654],\n",
              "       [ 0.09603878]], dtype=float32)"
            ]
          },
          "metadata": {}
        }
      ]
    }
  ]
}