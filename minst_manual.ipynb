{
 "cells": [
  {
   "cell_type": "markdown",
   "id": "ff3f2377",
   "metadata": {
    "slideshow": {
     "slide_type": ""
    },
    "tags": []
   },
   "source": [
    "# Practical 3\n",
    "## A) To understand the Multi Layer Perceptron by manually training model on Minst dataset from scratch"
   ]
  },
  {
   "cell_type": "markdown",
   "id": "887fb89a-3495-4621-bb63-e87f927e13b6",
   "metadata": {},
   "source": [
    "#### The MNIST (Modified National Institute of Standards and Technology) dataset is used in machine learning and deep learning, particularly for image classification tasks. It consists of a large collection of grayscale images of handwritten digits (0-9). \n",
    "\n",
    "> The dataset comprises 70,000 images of handwritten digits. Each image is a 28x28 pixel grayscale image.\n",
    "- **Structure:**\n",
    ">**Training Set:** 60,000 images used to train machine learning models.\n",
    ">\n",
    ">**Test Set:** 10,000 images used to evaluate the performance of trained models.\n",
    "- **Data Format:**\n",
    ">**Images (Features):** Each image is represented as a 28x28 array of pixel values, typically ranging from 0 to 255 (representing grayscale intensity).\n",
    ">\n",
    ">**Labels (Targets):** Each image has a corresponding label indicating the digit it represents (0-9). "
   ]
  },
  {
   "cell_type": "markdown",
   "id": "ee1386e8",
   "metadata": {},
   "source": [
    "## Software Used \n",
    "- Python (3.x)\n",
    "- Jupyter-Lab\n",
    "## Libraries Used\n",
    "- JAX\n",
    "- Matplotlib\n",
    "- Tensorflow"
   ]
  },
  {
   "cell_type": "markdown",
   "id": "a8788eb5",
   "metadata": {},
   "source": [
    "### Necessary Imports"
   ]
  },
  {
   "cell_type": "code",
   "execution_count": 1,
   "id": "191a7bfd",
   "metadata": {},
   "outputs": [],
   "source": [
    "import jax\n",
    "import jax.numpy as jnp\n",
    "from jax import random\n",
    "import matplotlib.pyplot as plt\n",
    "from tensorflow.keras.datasets import mnist\n",
    "from jax.nn import one_hot"
   ]
  },
  {
   "cell_type": "markdown",
   "id": "26946d77",
   "metadata": {},
   "source": [
    "### Iniating necessary variables for training Multi-Layer Perceptron"
   ]
  },
  {
   "cell_type": "code",
   "execution_count": 2,
   "id": "160dc108",
   "metadata": {},
   "outputs": [],
   "source": [
    "def init_params(key, l,L):\n",
    "    params = []\n",
    "    for i in range(l - 1):\n",
    "        key, subkey = random.split(key)\n",
    "        w = random.normal(subkey, (L[i], L[i + 1])) * jnp.sqrt(2.0 / L[i]) #for stable variance\n",
    "        b = jnp.zeros((L[i + 1],))\n",
    "        params.append((w, b))\n",
    "    return params"
   ]
  },
  {
   "cell_type": "markdown",
   "id": "2a08bd8b",
   "metadata": {},
   "source": [
    "###  Forward Propagation"
   ]
  },
  {
   "cell_type": "code",
   "execution_count": 3,
   "id": "e70c7146",
   "metadata": {},
   "outputs": [],
   "source": [
    "def forward(params, x):\n",
    "    \"\"\"\n",
    "    Forward pass through the MLP\n",
    "    params: list of (w, b) for each layer\n",
    "    x: input data, shape (batch_size, input_dim)\n",
    "    \"\"\"\n",
    "    activations = x\n",
    "    # Hidden layers\n",
    "    for w, b in params[:-1]:\n",
    "        z = jnp.dot(activations, w) + b   # linear\n",
    "        activations = jax.nn.relu(z)      # non-linear (can use sigmoid/tanh instead)\n",
    "    \n",
    "    # Output layer (last one)\n",
    "    w, b = params[-1]\n",
    "    logits = jnp.dot(activations, w) + b\n",
    "    probs = jax.nn.softmax(logits, axis=1)  # probabilities for classification\n",
    "    \n",
    "    return probs, logits"
   ]
  },
  {
   "cell_type": "code",
   "execution_count": null,
   "id": "c6e3bcea",
   "metadata": {},
   "outputs": [],
   "source": [
    "'''def forward(params, x):\n",
    "    a = x\n",
    "    for i, (w, b) in enumerate(params):\n",
    "        z = jnp.dot(a, w) + b\n",
    "        # Hidden layers use sigmoid\n",
    "        if i < len(params) - 1:\n",
    "            a = jax.nn.sigmoid(z)\n",
    "        else:\n",
    "            # Last layer uses softmax (for multi-class classification)\n",
    "            a = jax.nn.softmax(z, axis=1)\n",
    "    return a'''"
   ]
  },
  {
   "cell_type": "markdown",
   "id": "f14c2768",
   "metadata": {},
   "source": [
    "### Finding Accuracy"
   ]
  },
  {
   "cell_type": "code",
   "execution_count": 4,
   "id": "52314d27",
   "metadata": {},
   "outputs": [],
   "source": [
    "def accuracy(params, x, y_true):\n",
    "    y_pred,logits = forward(params, x)\n",
    "    preds = jnp.argmax(y_pred, axis=1)\n",
    "    labels = jnp.argmax(y_true, axis=1)\n",
    "    return jnp.mean(preds == labels)"
   ]
  },
  {
   "cell_type": "markdown",
   "id": "b74f925c",
   "metadata": {},
   "source": [
    "### Loss Function"
   ]
  },
  {
   "cell_type": "code",
   "execution_count": 5,
   "id": "7e71eda6",
   "metadata": {},
   "outputs": [],
   "source": [
    "def loss_fn(params, X, Y):\n",
    "    \"\"\"\n",
    "    Categorical Cross-Entropy Loss\n",
    "    X : [batch_size, features]\n",
    "    Y : [batch_size, num_classes] (one-hot encoded)\n",
    "    \"\"\"\n",
    "    logits = forward(params, X)[0]   # output before softmax\n",
    "    # Apply softmax\n",
    "    probs = jax.nn.softmax(logits, axis=1)\n",
    "    # Numerical stability: clip\n",
    "    probs = jnp.clip(probs, 1e-9, 1.0)\n",
    "    # Compute CCE\n",
    "    loss = -jnp.mean(jnp.sum(Y * jnp.log(probs), axis=1))\n",
    "    return loss"
   ]
  },
  {
   "cell_type": "code",
   "execution_count": null,
   "id": "d179a9cd-9274-4d8e-8114-f2709dee8c0c",
   "metadata": {},
   "outputs": [],
   "source": []
  },
  {
   "cell_type": "code",
   "execution_count": null,
   "id": "f93774a2-1655-4af9-bd14-312690334c9c",
   "metadata": {},
   "outputs": [],
   "source": []
  },
  {
   "cell_type": "code",
   "execution_count": null,
   "id": "b46660e8-bef7-4078-8a03-5dedb18063d6",
   "metadata": {},
   "outputs": [],
   "source": []
  },
  {
   "cell_type": "markdown",
   "id": "ad23d9e3",
   "metadata": {},
   "source": [
    "### Training MLP Model"
   ]
  },
  {
   "cell_type": "code",
   "execution_count": 6,
   "id": "dbdcdf4a",
   "metadata": {},
   "outputs": [],
   "source": [
    "def MLP_Training(params, x_train, y_train, x_test, y_test, epochs=100, batch_size=32, lr=0.01):\n",
    "    historys = {\"loss\": [], \"accuracy\": []}\n",
    "    n_samples = x_train.shape[0]\n",
    "    history = []\n",
    "    for epoch in range(epochs):\n",
    "        # Shuffle dataset at the start of each epoch\n",
    "        idx = jax.random.permutation(jax.random.PRNGKey(epoch), n_samples)\n",
    "        x_train, y_train = x_train[idx], y_train[idx]\n",
    "\n",
    "        # Loop over batches\n",
    "        for i in range(0, n_samples, batch_size):\n",
    "            x_batch = x_train[i:i+batch_size]\n",
    "            y_batch = y_train[i:i+batch_size]\n",
    "\n",
    "            # Forward + Backward + Update\n",
    "            loss, grads = jax.value_and_grad(loss_fn)(params, x_batch, y_batch)\n",
    "\n",
    "            params = [(w - lr * dw, b - lr * db) \n",
    "                    for (w, b), (dw, db) in zip(params, grads)]\n",
    "\n",
    "        # Track loss/accuracy after epoch\n",
    "        acc = accuracy(params, x_test, y_test)\n",
    "        historys[\"loss\"].append(loss)\n",
    "        historys[\"accuracy\"].append(acc)\n",
    "        history.append({\"epoch\": epoch, \"loss\": float(loss), \"accuracy\": float(acc),\"weight\":params[0][0],\"bias\":params[0][1]})\n",
    "\n",
    "        print(f\"Epoch {epoch+1}/{epochs}, Loss: {loss:.4f}, Accuracy: {acc:.4f}\")\n",
    "\n",
    "    return params, history"
   ]
  },
  {
   "cell_type": "markdown",
   "id": "aa49f89a",
   "metadata": {},
   "source": [
    "### Generate graph for plotting Loss and Accuracy evolution over Epochs"
   ]
  },
  {
   "cell_type": "code",
   "execution_count": 7,
   "id": "c55fb908",
   "metadata": {},
   "outputs": [],
   "source": [
    "def plot_loss_accuracy(history):\n",
    "    if not history:\n",
    "        print(\"No training history to plot.\")\n",
    "        return\n",
    "    \n",
    "    # Support both list of dicts and simple list of floats\n",
    "    if isinstance(history[0], dict):\n",
    "        # Extract losses and epochs if present\n",
    "        losses = jnp.array([float(h.get('loss', jnp.nan)) for h in history])\n",
    "        epochs = jnp.array([h.get('epoch', i) for i, h in enumerate(history)])\n",
    "        accuracies   = jnp.array([float(h.get('accuracy', jnp.nan)) for h in history])\n",
    "    else:\n",
    "        losses = jnp.array(history)\n",
    "        epochs = jnp.arange(len(losses))\n",
    "        losses = jnp.full_like(losses, jnp.nan)   # No MSE in simple case\n",
    "        accuracies = jnp.full_like(losses, jnp.nan)   # No accuracy in simple case\n",
    "        \n",
    "    plt.figure(figsize=(8, 5))\n",
    "    plt.plot(epochs, losses, marker='o', label=\"Loss\")\n",
    "    plt.plot(epochs, accuracies, marker='s', label=\"Accuracy\")\n",
    "    plt.xlabel(\"Epochs\")\n",
    "    plt.ylabel(\"Loss\")\n",
    "    plt.title(\"Training Loss Over Epochs\")\n",
    "    plt.grid(True)\n",
    "    plt.legend()\n",
    "    plt.tight_layout()\n",
    "    plt.show()"
   ]
  },
  {
   "cell_type": "code",
   "execution_count": null,
   "id": "744c3a27-b4c9-4be8-906a-70f5bf395057",
   "metadata": {},
   "outputs": [],
   "source": []
  },
  {
   "cell_type": "code",
   "execution_count": null,
   "id": "c779a37d-5c0c-46aa-81be-2dddd3429693",
   "metadata": {},
   "outputs": [],
   "source": []
  },
  {
   "cell_type": "markdown",
   "id": "8dc8e310",
   "metadata": {},
   "source": [
    "### Generate graph for plotting Weight and Bias evolution over Epochs"
   ]
  },
  {
   "cell_type": "code",
   "execution_count": 9,
   "id": "b7114b2f",
   "metadata": {},
   "outputs": [],
   "source": [
    "def plot_params_evolution(history):\n",
    "    if not history:\n",
    "        print(\"No training history to plot parameters.\")\n",
    "        return\n",
    "\n",
    "    epochs = [h[\"epoch\"] for h in history]\n",
    "    # history[0][\"weights\"] and history[0][\"biases\"] exist and are lists of arrays\n",
    "    num_weight_layers = len(history[0][\"weight\"])\n",
    "    num_bias_layers = len(history[0][\"bias\"])\n",
    "\n",
    "    # Plot Weights\n",
    "    for i in range(num_weight_layers):\n",
    "        plt.figure(figsize=(10, 6))\n",
    "        # Transpose weights for easier plotting of individual weights\n",
    "        layer_weights = jnp.stack([h[\"weight\"][i].flatten() for h in history])\n",
    "        for j in range(layer_weights.shape[1]):\n",
    "            plt.plot(epochs, layer_weights[:, j], label=f'Weight {j+1}')\n",
    "        plt.xlabel(\"Epochs\")\n",
    "        plt.ylabel(\"Weight Value\")\n",
    "        plt.title(f\"Evolution of Weights in Layer {i+1}\")\n",
    "        plt.legend()\n",
    "        plt.grid(True)\n",
    "        plt.show()\n",
    "\n",
    "    # Plot Biases\n",
    "    for i in range(num_bias_layers):\n",
    "        plt.figure(figsize=(10, 6))\n",
    "        layer_biases = jnp.stack([h[\"bias\"][i].flatten() for h in history])\n",
    "        for j in range(layer_biases.shape[1]):\n",
    "             plt.plot(epochs, layer_biases[:, j], label=f'Bias {j+1}')\n",
    "        plt.xlabel(\"Epochs\")\n",
    "        plt.ylabel(\"Bias Value\")\n",
    "        plt.title(f\"Evolution of Biases in Layer {i+1}\")\n",
    "        plt.legend()\n",
    "        plt.grid(True)\n",
    "        plt.show()"
   ]
  },
  {
   "cell_type": "markdown",
   "id": "526d4add",
   "metadata": {},
   "source": [
    "### Training MLP on Mnist"
   ]
  },
  {
   "cell_type": "code",
   "execution_count": 8,
   "id": "034448fd",
   "metadata": {},
   "outputs": [],
   "source": [
    "# Load MNIST dataset\n",
    "(x_train,y_train ), (x_test, y_test) = mnist.load_data()\n",
    "# Flatten and normalize\n",
    "x_train = x_train.reshape(-1, 28*28) / 255.0\n",
    "x_test = x_test.reshape(-1, 28*28) / 255.0\n",
    "epoches = 20\n",
    "learning_rate = 0.01\n",
    "key= random.PRNGKey(42)\n",
    "num_classes = 10\n",
    "batch_size = 64\n",
    "y_train_oh = one_hot(y_train, num_classes)\n",
    "y_test_oh = one_hot(y_test, num_classes)  "
   ]
  },
  {
   "cell_type": "markdown",
   "id": "4ac54339",
   "metadata": {},
   "source": [
    "### L = [784,128,64,10] , Epoch = 20 , Batch Size = 64 , Key =[0,42]"
   ]
  },
  {
   "cell_type": "code",
   "execution_count": 13,
   "id": "0d32bcbd",
   "metadata": {},
   "outputs": [
    {
     "name": "stdout",
     "output_type": "stream",
     "text": [
      "Epoch 1/20, Loss: 1.7594, Accuracy: 0.7751\n",
      "Epoch 2/20, Loss: 1.6113, Accuracy: 0.8931\n",
      "Epoch 3/20, Loss: 1.6162, Accuracy: 0.9045\n",
      "Epoch 4/20, Loss: 1.5108, Accuracy: 0.9115\n",
      "Epoch 5/20, Loss: 1.5725, Accuracy: 0.9165\n",
      "Epoch 6/20, Loss: 1.5593, Accuracy: 0.9215\n",
      "Epoch 7/20, Loss: 1.5410, Accuracy: 0.9255\n",
      "Epoch 8/20, Loss: 1.5110, Accuracy: 0.9279\n",
      "Epoch 9/20, Loss: 1.5577, Accuracy: 0.9298\n",
      "Epoch 10/20, Loss: 1.5155, Accuracy: 0.9316\n",
      "Epoch 11/20, Loss: 1.5788, Accuracy: 0.9332\n",
      "Epoch 12/20, Loss: 1.5279, Accuracy: 0.9358\n",
      "Epoch 13/20, Loss: 1.5101, Accuracy: 0.9371\n",
      "Epoch 14/20, Loss: 1.5415, Accuracy: 0.9381\n",
      "Epoch 15/20, Loss: 1.5257, Accuracy: 0.9394\n",
      "Epoch 16/20, Loss: 1.4675, Accuracy: 0.9399\n",
      "Epoch 17/20, Loss: 1.4869, Accuracy: 0.9418\n",
      "Epoch 18/20, Loss: 1.5405, Accuracy: 0.9426\n",
      "Epoch 19/20, Loss: 1.5565, Accuracy: 0.9430\n",
      "Epoch 20/20, Loss: 1.5022, Accuracy: 0.9441\n",
      "History length: 20\n",
      "Accuracy of the model: 0.94409996\n"
     ]
    },
    {
     "data": {
      "image/png": "[encoded data removed]",
      "text/plain": [
       "<Figure size 800x500 with 1 Axes>"
      ]
     },
     "metadata": {},
     "output_type": "display_data"
    }
   ],
   "source": [
    "key= random.PRNGKey(42)\n",
    "L=[784,128,64,10]\n",
    "epochs=20\n",
    "batch_size=32\n",
    "params, history = MLP_Training(params=init_params(key, len(L) , L), \n",
    "                               x_train=x_train, y_train=y_train_oh, \n",
    "                               x_test=x_test, y_test=y_test_oh, \n",
    "                               epochs=20, batch_size=32, lr=learning_rate)\n",
    "print(\"History length:\", len(history))\n",
    "print(\"Accuracy of the model:\", accuracy(params, x_test, y_test_oh))\n",
    "plot_loss_accuracy(history)"
   ]
  },
  {
   "cell_type": "markdown",
   "id": "0e29220e",
   "metadata": {},
   "source": [
    "## B) Training Multi Layer Perceptron using TensorFlow"
   ]
  },
  {
   "cell_type": "markdown",
   "id": "655ffb86-47b2-43ee-91e5-7173f415a46e",
   "metadata": {},
   "source": [
    "### Importing necessary libraries & initializing data"
   ]
  },
  {
   "cell_type": "code",
   "execution_count": 16,
   "id": "8cf1ef23",
   "metadata": {},
   "outputs": [],
   "source": [
    "import jax.numpy as np\n",
    "import matplotlib.pyplot as plt\n",
    "from tensorflow.keras.datasets import mnist\n",
    "from tensorflow.keras.models import Sequential\n",
    "from tensorflow.keras.layers import Dense, Flatten, Dropout\n",
    "\n",
    "# Load MNIST\n",
    "(x_train, y_train), (x_test, y_test) = mnist.load_data()\n",
    "\n",
    "# Normalize\n",
    "x_train = x_train / 255.0\n",
    "x_test = x_test / 255.0"
   ]
  },
  {
   "cell_type": "markdown",
   "id": "465b9766",
   "metadata": {},
   "source": [
    "### Defining & Training Sequential Model"
   ]
  },
  {
   "cell_type": "code",
   "execution_count": 34,
   "id": "593f6619",
   "metadata": {},
   "outputs": [
    {
     "data": {
      "text/html": [
       "<pre style=\"white-space:pre;overflow-x:auto;line-height:normal;font-family:Menlo,'DejaVu Sans Mono',consolas,'Courier New',monospace\"><span style=\"font-weight: bold\">Model: \"sequential_10\"</span>\n",
       "</pre>\n"
      ],
      "text/plain": [
       "\u001b[1mModel: \"sequential_10\"\u001b[0m\n"
      ]
     },
     "metadata": {},
     "output_type": "display_data"
    },
    {
     "data": {
      "text/html": [
       "<pre style=\"white-space:pre;overflow-x:auto;line-height:normal;font-family:Menlo,'DejaVu Sans Mono',consolas,'Courier New',monospace\">┏━━━━━━━━━━━━━━━━━━━━━━━━━━━━━━━━━┳━━━━━━━━━━━━━━━━━━━━━━━━┳━━━━━━━━━━━━━━━┓\n",
       "┃<span style=\"font-weight: bold\"> Layer (type)                    </span>┃<span style=\"font-weight: bold\"> Output Shape           </span>┃<span style=\"font-weight: bold\">       Param # </span>┃\n",
       "┡━━━━━━━━━━━━━━━━━━━━━━━━━━━━━━━━━╇━━━━━━━━━━━━━━━━━━━━━━━━╇━━━━━━━━━━━━━━━┩\n",
       "│ flatten_10 (<span style=\"color: #0087ff; text-decoration-color: #0087ff\">Flatten</span>)            │ (<span style=\"color: #00d7ff; text-decoration-color: #00d7ff\">None</span>, <span style=\"color: #00af00; text-decoration-color: #00af00\">784</span>)            │             <span style=\"color: #00af00; text-decoration-color: #00af00\">0</span> │\n",
       "├─────────────────────────────────┼────────────────────────┼───────────────┤\n",
       "│ dense_30 (<span style=\"color: #0087ff; text-decoration-color: #0087ff\">Dense</span>)                │ (<span style=\"color: #00d7ff; text-decoration-color: #00d7ff\">None</span>, <span style=\"color: #00af00; text-decoration-color: #00af00\">128</span>)            │       <span style=\"color: #00af00; text-decoration-color: #00af00\">100,480</span> │\n",
       "├─────────────────────────────────┼────────────────────────┼───────────────┤\n",
       "│ dense_31 (<span style=\"color: #0087ff; text-decoration-color: #0087ff\">Dense</span>)                │ (<span style=\"color: #00d7ff; text-decoration-color: #00d7ff\">None</span>, <span style=\"color: #00af00; text-decoration-color: #00af00\">24</span>)             │         <span style=\"color: #00af00; text-decoration-color: #00af00\">3,096</span> │\n",
       "├─────────────────────────────────┼────────────────────────┼───────────────┤\n",
       "│ dropout_10 (<span style=\"color: #0087ff; text-decoration-color: #0087ff\">Dropout</span>)            │ (<span style=\"color: #00d7ff; text-decoration-color: #00d7ff\">None</span>, <span style=\"color: #00af00; text-decoration-color: #00af00\">24</span>)             │             <span style=\"color: #00af00; text-decoration-color: #00af00\">0</span> │\n",
       "├─────────────────────────────────┼────────────────────────┼───────────────┤\n",
       "│ dense_32 (<span style=\"color: #0087ff; text-decoration-color: #0087ff\">Dense</span>)                │ (<span style=\"color: #00d7ff; text-decoration-color: #00d7ff\">None</span>, <span style=\"color: #00af00; text-decoration-color: #00af00\">10</span>)             │           <span style=\"color: #00af00; text-decoration-color: #00af00\">250</span> │\n",
       "└─────────────────────────────────┴────────────────────────┴───────────────┘\n",
       "</pre>\n"
      ],
      "text/plain": [
       "┏━━━━━━━━━━━━━━━━━━━━━━━━━━━━━━━━━┳━━━━━━━━━━━━━━━━━━━━━━━━┳━━━━━━━━━━━━━━━┓\n",
       "┃\u001b[1m \u001b[0m\u001b[1mLayer (type)                   \u001b[0m\u001b[1m \u001b[0m┃\u001b[1m \u001b[0m\u001b[1mOutput Shape          \u001b[0m\u001b[1m \u001b[0m┃\u001b[1m \u001b[0m\u001b[1m      Param #\u001b[0m\u001b[1m \u001b[0m┃\n",
       "┡━━━━━━━━━━━━━━━━━━━━━━━━━━━━━━━━━╇━━━━━━━━━━━━━━━━━━━━━━━━╇━━━━━━━━━━━━━━━┩\n",
       "│ flatten_10 (\u001b[38;5;33mFlatten\u001b[0m)            │ (\u001b[38;5;45mNone\u001b[0m, \u001b[38;5;34m784\u001b[0m)            │             \u001b[38;5;34m0\u001b[0m │\n",
       "├─────────────────────────────────┼────────────────────────┼───────────────┤\n",
       "│ dense_30 (\u001b[38;5;33mDense\u001b[0m)                │ (\u001b[38;5;45mNone\u001b[0m, \u001b[38;5;34m128\u001b[0m)            │       \u001b[38;5;34m100,480\u001b[0m │\n",
       "├─────────────────────────────────┼────────────────────────┼───────────────┤\n",
       "│ dense_31 (\u001b[38;5;33mDense\u001b[0m)                │ (\u001b[38;5;45mNone\u001b[0m, \u001b[38;5;34m24\u001b[0m)             │         \u001b[38;5;34m3,096\u001b[0m │\n",
       "├─────────────────────────────────┼────────────────────────┼───────────────┤\n",
       "│ dropout_10 (\u001b[38;5;33mDropout\u001b[0m)            │ (\u001b[38;5;45mNone\u001b[0m, \u001b[38;5;34m24\u001b[0m)             │             \u001b[38;5;34m0\u001b[0m │\n",
       "├─────────────────────────────────┼────────────────────────┼───────────────┤\n",
       "│ dense_32 (\u001b[38;5;33mDense\u001b[0m)                │ (\u001b[38;5;45mNone\u001b[0m, \u001b[38;5;34m10\u001b[0m)             │           \u001b[38;5;34m250\u001b[0m │\n",
       "└─────────────────────────────────┴────────────────────────┴───────────────┘\n"
      ]
     },
     "metadata": {},
     "output_type": "display_data"
    },
    {
     "data": {
      "text/html": [
       "<pre style=\"white-space:pre;overflow-x:auto;line-height:normal;font-family:Menlo,'DejaVu Sans Mono',consolas,'Courier New',monospace\"><span style=\"font-weight: bold\"> Total params: </span><span style=\"color: #00af00; text-decoration-color: #00af00\">103,826</span> (405.57 KB)\n",
       "</pre>\n"
      ],
      "text/plain": [
       "\u001b[1m Total params: \u001b[0m\u001b[38;5;34m103,826\u001b[0m (405.57 KB)\n"
      ]
     },
     "metadata": {},
     "output_type": "display_data"
    },
    {
     "data": {
      "text/html": [
       "<pre style=\"white-space:pre;overflow-x:auto;line-height:normal;font-family:Menlo,'DejaVu Sans Mono',consolas,'Courier New',monospace\"><span style=\"font-weight: bold\"> Trainable params: </span><span style=\"color: #00af00; text-decoration-color: #00af00\">103,826</span> (405.57 KB)\n",
       "</pre>\n"
      ],
      "text/plain": [
       "\u001b[1m Trainable params: \u001b[0m\u001b[38;5;34m103,826\u001b[0m (405.57 KB)\n"
      ]
     },
     "metadata": {},
     "output_type": "display_data"
    },
    {
     "data": {
      "text/html": [
       "<pre style=\"white-space:pre;overflow-x:auto;line-height:normal;font-family:Menlo,'DejaVu Sans Mono',consolas,'Courier New',monospace\"><span style=\"font-weight: bold\"> Non-trainable params: </span><span style=\"color: #00af00; text-decoration-color: #00af00\">0</span> (0.00 B)\n",
       "</pre>\n"
      ],
      "text/plain": [
       "\u001b[1m Non-trainable params: \u001b[0m\u001b[38;5;34m0\u001b[0m (0.00 B)\n"
      ]
     },
     "metadata": {},
     "output_type": "display_data"
    },
    {
     "name": "stdout",
     "output_type": "stream",
     "text": [
      "{'name': 'sequential_10', 'trainable': True, 'dtype': {'module': 'keras', 'class_name': 'DTypePolicy', 'config': {'name': 'float32'}, 'registered_name': None}, 'layers': [{'module': 'keras.layers', 'class_name': 'InputLayer', 'config': {'batch_shape': (None, 28, 28), 'dtype': 'float32', 'sparse': False, 'ragged': False, 'name': 'input_layer_10'}, 'registered_name': None}, {'module': 'keras.layers', 'class_name': 'Flatten', 'config': {'name': 'flatten_10', 'trainable': True, 'dtype': {'module': 'keras', 'class_name': 'DTypePolicy', 'config': {'name': 'float32'}, 'registered_name': None}, 'data_format': 'channels_last'}, 'registered_name': None, 'build_config': {'input_shape': (None, 28, 28)}}, {'module': 'keras.layers', 'class_name': 'Dense', 'config': {'name': 'dense_30', 'trainable': True, 'dtype': {'module': 'keras', 'class_name': 'DTypePolicy', 'config': {'name': 'float32'}, 'registered_name': None}, 'units': 128, 'activation': 'relu', 'use_bias': True, 'kernel_initializer': {'module': 'keras.initializers', 'class_name': 'GlorotUniform', 'config': {'seed': None}, 'registered_name': None}, 'bias_initializer': {'module': 'keras.initializers', 'class_name': 'Zeros', 'config': {}, 'registered_name': None}, 'kernel_regularizer': None, 'bias_regularizer': None, 'kernel_constraint': None, 'bias_constraint': None}, 'registered_name': None, 'build_config': {'input_shape': (None, 784)}}, {'module': 'keras.layers', 'class_name': 'Dense', 'config': {'name': 'dense_31', 'trainable': True, 'dtype': {'module': 'keras', 'class_name': 'DTypePolicy', 'config': {'name': 'float32'}, 'registered_name': None}, 'units': 24, 'activation': 'sigmoid', 'use_bias': True, 'kernel_initializer': {'module': 'keras.initializers', 'class_name': 'GlorotUniform', 'config': {'seed': None}, 'registered_name': None}, 'bias_initializer': {'module': 'keras.initializers', 'class_name': 'Zeros', 'config': {}, 'registered_name': None}, 'kernel_regularizer': None, 'bias_regularizer': None, 'kernel_constraint': None, 'bias_constraint': None}, 'registered_name': None, 'build_config': {'input_shape': (None, 128)}}, {'module': 'keras.layers', 'class_name': 'Dropout', 'config': {'name': 'dropout_10', 'trainable': True, 'dtype': {'module': 'keras', 'class_name': 'DTypePolicy', 'config': {'name': 'float32'}, 'registered_name': None}, 'rate': 0.1, 'seed': None, 'noise_shape': None}, 'registered_name': None}, {'module': 'keras.layers', 'class_name': 'Dense', 'config': {'name': 'dense_32', 'trainable': True, 'dtype': {'module': 'keras', 'class_name': 'DTypePolicy', 'config': {'name': 'float32'}, 'registered_name': None}, 'units': 10, 'activation': 'softmax', 'use_bias': True, 'kernel_initializer': {'module': 'keras.initializers', 'class_name': 'GlorotUniform', 'config': {'seed': None}, 'registered_name': None}, 'bias_initializer': {'module': 'keras.initializers', 'class_name': 'Zeros', 'config': {}, 'registered_name': None}, 'kernel_regularizer': None, 'bias_regularizer': None, 'kernel_constraint': None, 'bias_constraint': None}, 'registered_name': None, 'build_config': {'input_shape': (None, 24)}}], 'build_input_shape': (None, 28, 28)}\n",
      "Epoch 1/10\n",
      "\u001b[1m1875/1875\u001b[0m \u001b[32m━━━━━━━━━━━━━━━━━━━━\u001b[0m\u001b[37m\u001b[0m \u001b[1m5s\u001b[0m 2ms/step - accuracy: 0.8036 - loss: 0.8331 - val_accuracy: 0.9489 - val_loss: 0.1818\n",
      "Epoch 2/10\n",
      "\u001b[1m1875/1875\u001b[0m \u001b[32m━━━━━━━━━━━━━━━━━━━━\u001b[0m\u001b[37m\u001b[0m \u001b[1m4s\u001b[0m 2ms/step - accuracy: 0.9509 - loss: 0.1826 - val_accuracy: 0.9644 - val_loss: 0.1241\n",
      "Epoch 3/10\n",
      "\u001b[1m1875/1875\u001b[0m \u001b[32m━━━━━━━━━━━━━━━━━━━━\u001b[0m\u001b[37m\u001b[0m \u001b[1m5s\u001b[0m 2ms/step - accuracy: 0.9689 - loss: 0.1180 - val_accuracy: 0.9699 - val_loss: 0.0993\n",
      "Epoch 4/10\n",
      "\u001b[1m1875/1875\u001b[0m \u001b[32m━━━━━━━━━━━━━━━━━━━━\u001b[0m\u001b[37m\u001b[0m \u001b[1m4s\u001b[0m 2ms/step - accuracy: 0.9758 - loss: 0.0846 - val_accuracy: 0.9734 - val_loss: 0.0925\n",
      "Epoch 5/10\n",
      "\u001b[1m1875/1875\u001b[0m \u001b[32m━━━━━━━━━━━━━━━━━━━━\u001b[0m\u001b[37m\u001b[0m \u001b[1m4s\u001b[0m 2ms/step - accuracy: 0.9816 - loss: 0.0652 - val_accuracy: 0.9747 - val_loss: 0.0852\n",
      "Epoch 6/10\n",
      "\u001b[1m1875/1875\u001b[0m \u001b[32m━━━━━━━━━━━━━━━━━━━━\u001b[0m\u001b[37m\u001b[0m \u001b[1m4s\u001b[0m 2ms/step - accuracy: 0.9837 - loss: 0.0569 - val_accuracy: 0.9764 - val_loss: 0.0814\n",
      "Epoch 7/10\n",
      "\u001b[1m1875/1875\u001b[0m \u001b[32m━━━━━━━━━━━━━━━━━━━━\u001b[0m\u001b[37m\u001b[0m \u001b[1m4s\u001b[0m 2ms/step - accuracy: 0.9869 - loss: 0.0448 - val_accuracy: 0.9777 - val_loss: 0.0778\n",
      "Epoch 8/10\n",
      "\u001b[1m1875/1875\u001b[0m \u001b[32m━━━━━━━━━━━━━━━━━━━━\u001b[0m\u001b[37m\u001b[0m \u001b[1m3s\u001b[0m 2ms/step - accuracy: 0.9873 - loss: 0.0407 - val_accuracy: 0.9765 - val_loss: 0.0828\n",
      "Epoch 9/10\n",
      "\u001b[1m1875/1875\u001b[0m \u001b[32m━━━━━━━━━━━━━━━━━━━━\u001b[0m\u001b[37m\u001b[0m \u001b[1m3s\u001b[0m 2ms/step - accuracy: 0.9894 - loss: 0.0337 - val_accuracy: 0.9782 - val_loss: 0.0823\n",
      "Epoch 10/10\n",
      "\u001b[1m1875/1875\u001b[0m \u001b[32m━━━━━━━━━━━━━━━━━━━━\u001b[0m\u001b[37m\u001b[0m \u001b[1m3s\u001b[0m 2ms/step - accuracy: 0.9915 - loss: 0.0276 - val_accuracy: 0.9787 - val_loss: 0.0789\n"
     ]
    }
   ],
   "source": [
    "model = Sequential([\n",
    "    Flatten(input_shape=(28, 28)),           # Input layer\n",
    "    Dense(128, activation='relu'),        # Hidden layer\n",
    "    Dense(24, activation='sigmoid'),         # Hidden layer\n",
    "    Dropout(0.1),                         #Dropout\n",
    "    Dense(10, activation='softmax')          # Output layer\n",
    "])\n",
    "\n",
    "# Compile\n",
    "from tensorflow.keras.optimizers import Adam\n",
    "\n",
    "model.compile(optimizer=Adam(learning_rate=0.001),\n",
    "              loss='sparse_categorical_crossentropy',\n",
    "              metrics=['accuracy'])\n",
    "\n",
    "# Summary\n",
    "model.summary()\n",
    "\n",
    "# Show model config\n",
    "print(model.get_config())\n",
    "history = model.fit(x_train, y_train,validation_data=(x_test, y_test),epochs=10,batch_size=32)"
   ]
  },
  {
   "cell_type": "markdown",
   "id": "9a27d3ec",
   "metadata": {},
   "source": [
    "### Evaluating Model"
   ]
  },
  {
   "cell_type": "code",
   "execution_count": 39,
   "id": "c5b862db",
   "metadata": {},
   "outputs": [
    {
     "name": "stdout",
     "output_type": "stream",
     "text": [
      "Test Accuracy: 0.9787, Test Loss: 0.0789\n"
     ]
    }
   ],
   "source": [
    "test_loss, test_acc = model.evaluate(x_test, y_test, verbose=0)\n",
    "print(f\"Test Accuracy: {test_acc:.4f}, Test Loss: {test_loss:.4f}\")"
   ]
  },
  {
   "cell_type": "markdown",
   "id": "ca951fad",
   "metadata": {},
   "source": [
    "### Plotting Graph"
   ]
  },
  {
   "cell_type": "code",
   "execution_count": 35,
   "id": "325a4d1b",
   "metadata": {},
   "outputs": [
    {
     "data": {
      "image/png": "[encoded data removed]",
      "text/plain": [
       "<Figure size 640x480 with 1 Axes>"
      ]
     },
     "metadata": {},
     "output_type": "display_data"
    },
    {
     "data": {
      "image/png": "[encoded data removed]",
      "text/plain": [
       "<Figure size 640x480 with 1 Axes>"
      ]
     },
     "metadata": {},
     "output_type": "display_data"
    }
   ],
   "source": [
    "# Accuracy\n",
    "plt.plot(history.history['accuracy'], label='Train Accuracy')\n",
    "plt.plot(history.history['val_accuracy'], label='Test Accuracy')\n",
    "plt.title('Model Accuracy')\n",
    "plt.xlabel('Epoch')\n",
    "plt.ylabel('Accuracy')\n",
    "plt.legend()\n",
    "plt.show()\n",
    "\n",
    "# Loss\n",
    "plt.plot(history.history['loss'], label='Train Loss')\n",
    "plt.plot(history.history['val_loss'], label='Test Loss')\n",
    "plt.title('Model Loss')\n",
    "plt.xlabel('Epoch')\n",
    "plt.ylabel('Loss')\n",
    "plt.legend()\n",
    "plt.show()\n"
   ]
  },
  {
   "cell_type": "markdown",
   "id": "e7bb9186",
   "metadata": {},
   "source": [
    "### Making Prediction"
   ]
  },
  {
   "cell_type": "code",
   "execution_count": 36,
   "id": "6183c363",
   "metadata": {},
   "outputs": [
    {
     "name": "stdout",
     "output_type": "stream",
     "text": [
      "\u001b[1m313/313\u001b[0m \u001b[32m━━━━━━━━━━━━━━━━━━━━\u001b[0m\u001b[37m\u001b[0m \u001b[1m0s\u001b[0m 949us/step\n"
     ]
    },
    {
     "data": {
      "image/png": "[encoded data removed]",
      "text/plain": [
       "<Figure size 1000x400 with 10 Axes>"
      ]
     },
     "metadata": {},
     "output_type": "display_data"
    }
   ],
   "source": [
    "predictions = model.predict(x_test)\n",
    "predicted_labels = np.argmax(predictions, axis=1)\n",
    "\n",
    "# Show first 10 test images and predictions\n",
    "plt.figure(figsize=(10, 4))\n",
    "for i in range(10):\n",
    "    plt.subplot(2, 5, i+1)\n",
    "    plt.imshow(x_test[i], cmap='gray')\n",
    "    plt.title(f\"Pred: {predicted_labels[i]}\\nTrue: {y_test[i]}\")\n",
    "    plt.axis('off')\n",
    "plt.tight_layout()\n",
    "plt.show()\n"
   ]
  }
 ],
 "metadata": {
  "kernelspec": {
   "display_name": "Python 3 (ipykernel)",
   "language": "python",
   "name": "python3"
  },
  "language_info": {
   "codemirror_mode": {
    "name": "ipython",
    "version": 3
   },
   "file_extension": ".py",
   "mimetype": "text/x-python",
   "name": "python",
   "nbconvert_exporter": "python",
   "pygments_lexer": "ipython3",
   "version": "3.13.1"
  }
 },
 "nbformat": 4,
 "nbformat_minor": 5
}
